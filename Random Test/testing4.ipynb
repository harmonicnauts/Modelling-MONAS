{
 "cells": [
  {
   "cell_type": "code",
   "execution_count": 51,
   "metadata": {},
   "outputs": [],
   "source": [
    "import numpy as np\n",
    "import pandas as pd\n",
    "import matplotlib.pyplot as plt\n",
    "%matplotlib inline\n",
    "\n",
    "import keras as kr\n",
    "import sklearn\n",
    "import math\n",
    "from keras.models import Sequential\n",
    "from keras.layers import Dense, Activation, LSTM\n",
    "from sklearn.preprocessing import MinMaxScaler\n",
    "from sklearn.metrics import mean_squared_error\n",
    "\n",
    "import itertools\n",
    "import warnings\n",
    "warnings.filterwarnings('ignore')\n",
    "\n"
   ]
  },
  {
   "cell_type": "code",
   "execution_count": 52,
   "metadata": {},
   "outputs": [
    {
     "data": {
      "text/html": [
       "<div>\n",
       "<style scoped>\n",
       "    .dataframe tbody tr th:only-of-type {\n",
       "        vertical-align: middle;\n",
       "    }\n",
       "\n",
       "    .dataframe tbody tr th {\n",
       "        vertical-align: top;\n",
       "    }\n",
       "\n",
       "    .dataframe thead th {\n",
       "        text-align: right;\n",
       "    }\n",
       "</style>\n",
       "<table border=\"1\" class=\"dataframe\">\n",
       "  <thead>\n",
       "    <tr style=\"text-align: right;\">\n",
       "      <th></th>\n",
       "      <th>Year</th>\n",
       "      <th>January</th>\n",
       "      <th>February</th>\n",
       "      <th>March</th>\n",
       "      <th>April</th>\n",
       "      <th>May</th>\n",
       "      <th>June</th>\n",
       "      <th>July</th>\n",
       "      <th>August</th>\n",
       "      <th>September</th>\n",
       "      <th>October</th>\n",
       "      <th>November</th>\n",
       "      <th>December</th>\n",
       "    </tr>\n",
       "  </thead>\n",
       "  <tbody>\n",
       "    <tr>\n",
       "      <th>0</th>\n",
       "      <td>1950</td>\n",
       "      <td>-1.53</td>\n",
       "      <td>-1.34</td>\n",
       "      <td>-1.16</td>\n",
       "      <td>-1.18</td>\n",
       "      <td>-1.07</td>\n",
       "      <td>-0.85</td>\n",
       "      <td>-0.54</td>\n",
       "      <td>-0.42</td>\n",
       "      <td>-0.39</td>\n",
       "      <td>-0.44</td>\n",
       "      <td>-0.60</td>\n",
       "      <td>-0.80</td>\n",
       "    </tr>\n",
       "    <tr>\n",
       "      <th>1</th>\n",
       "      <td>1951</td>\n",
       "      <td>-0.82</td>\n",
       "      <td>-0.54</td>\n",
       "      <td>-0.17</td>\n",
       "      <td>0.18</td>\n",
       "      <td>0.36</td>\n",
       "      <td>0.58</td>\n",
       "      <td>0.70</td>\n",
       "      <td>0.89</td>\n",
       "      <td>0.99</td>\n",
       "      <td>1.15</td>\n",
       "      <td>1.04</td>\n",
       "      <td>0.81</td>\n",
       "    </tr>\n",
       "    <tr>\n",
       "      <th>2</th>\n",
       "      <td>1952</td>\n",
       "      <td>0.53</td>\n",
       "      <td>0.37</td>\n",
       "      <td>0.34</td>\n",
       "      <td>0.29</td>\n",
       "      <td>0.20</td>\n",
       "      <td>0.00</td>\n",
       "      <td>-0.08</td>\n",
       "      <td>0.00</td>\n",
       "      <td>0.15</td>\n",
       "      <td>0.10</td>\n",
       "      <td>0.04</td>\n",
       "      <td>0.15</td>\n",
       "    </tr>\n",
       "    <tr>\n",
       "      <th>3</th>\n",
       "      <td>1953</td>\n",
       "      <td>0.40</td>\n",
       "      <td>0.60</td>\n",
       "      <td>0.63</td>\n",
       "      <td>0.66</td>\n",
       "      <td>0.75</td>\n",
       "      <td>0.77</td>\n",
       "      <td>0.75</td>\n",
       "      <td>0.73</td>\n",
       "      <td>0.78</td>\n",
       "      <td>0.84</td>\n",
       "      <td>0.84</td>\n",
       "      <td>0.81</td>\n",
       "    </tr>\n",
       "    <tr>\n",
       "      <th>4</th>\n",
       "      <td>1954</td>\n",
       "      <td>0.76</td>\n",
       "      <td>0.47</td>\n",
       "      <td>-0.05</td>\n",
       "      <td>-0.41</td>\n",
       "      <td>-0.54</td>\n",
       "      <td>-0.50</td>\n",
       "      <td>-0.64</td>\n",
       "      <td>-0.84</td>\n",
       "      <td>-0.90</td>\n",
       "      <td>-0.77</td>\n",
       "      <td>-0.73</td>\n",
       "      <td>-0.66</td>\n",
       "    </tr>\n",
       "  </tbody>\n",
       "</table>\n",
       "</div>"
      ],
      "text/plain": [
       "   Year  January  February  March  April   May  June  July  August  September  \\\n",
       "0  1950    -1.53     -1.34  -1.16  -1.18 -1.07 -0.85 -0.54   -0.42      -0.39   \n",
       "1  1951    -0.82     -0.54  -0.17   0.18  0.36  0.58  0.70    0.89       0.99   \n",
       "2  1952     0.53      0.37   0.34   0.29  0.20  0.00 -0.08    0.00       0.15   \n",
       "3  1953     0.40      0.60   0.63   0.66  0.75  0.77  0.75    0.73       0.78   \n",
       "4  1954     0.76      0.47  -0.05  -0.41 -0.54 -0.50 -0.64   -0.84      -0.90   \n",
       "\n",
       "   October  November  December  \n",
       "0    -0.44     -0.60     -0.80  \n",
       "1     1.15      1.04      0.81  \n",
       "2     0.10      0.04      0.15  \n",
       "3     0.84      0.84      0.81  \n",
       "4    -0.77     -0.73     -0.66  "
      ]
     },
     "execution_count": 52,
     "metadata": {},
     "output_type": "execute_result"
    }
   ],
   "source": [
    "df= pd.read_csv(\"C:/Users/Nikita Ayu/BMKG/ensoo.csv\", sep=\";\")\n",
    "df.head()"
   ]
  },
  {
   "cell_type": "code",
   "execution_count": 53,
   "metadata": {},
   "outputs": [
    {
     "data": {
      "text/html": [
       "<div>\n",
       "<style scoped>\n",
       "    .dataframe tbody tr th:only-of-type {\n",
       "        vertical-align: middle;\n",
       "    }\n",
       "\n",
       "    .dataframe tbody tr th {\n",
       "        vertical-align: top;\n",
       "    }\n",
       "\n",
       "    .dataframe thead th {\n",
       "        text-align: right;\n",
       "    }\n",
       "</style>\n",
       "<table border=\"1\" class=\"dataframe\">\n",
       "  <thead>\n",
       "    <tr style=\"text-align: right;\">\n",
       "      <th></th>\n",
       "      <th>January</th>\n",
       "      <th>February</th>\n",
       "      <th>March</th>\n",
       "      <th>April</th>\n",
       "      <th>May</th>\n",
       "      <th>June</th>\n",
       "      <th>July</th>\n",
       "      <th>August</th>\n",
       "      <th>September</th>\n",
       "      <th>October</th>\n",
       "      <th>November</th>\n",
       "      <th>December</th>\n",
       "    </tr>\n",
       "    <tr>\n",
       "      <th>Year</th>\n",
       "      <th></th>\n",
       "      <th></th>\n",
       "      <th></th>\n",
       "      <th></th>\n",
       "      <th></th>\n",
       "      <th></th>\n",
       "      <th></th>\n",
       "      <th></th>\n",
       "      <th></th>\n",
       "      <th></th>\n",
       "      <th></th>\n",
       "      <th></th>\n",
       "    </tr>\n",
       "  </thead>\n",
       "  <tbody>\n",
       "    <tr>\n",
       "      <th>1950</th>\n",
       "      <td>-1.53</td>\n",
       "      <td>-1.34</td>\n",
       "      <td>-1.16</td>\n",
       "      <td>-1.18</td>\n",
       "      <td>-1.07</td>\n",
       "      <td>-0.85</td>\n",
       "      <td>-0.54</td>\n",
       "      <td>-0.42</td>\n",
       "      <td>-0.39</td>\n",
       "      <td>-0.44</td>\n",
       "      <td>-0.60</td>\n",
       "      <td>-0.80</td>\n",
       "    </tr>\n",
       "    <tr>\n",
       "      <th>1951</th>\n",
       "      <td>-0.82</td>\n",
       "      <td>-0.54</td>\n",
       "      <td>-0.17</td>\n",
       "      <td>0.18</td>\n",
       "      <td>0.36</td>\n",
       "      <td>0.58</td>\n",
       "      <td>0.70</td>\n",
       "      <td>0.89</td>\n",
       "      <td>0.99</td>\n",
       "      <td>1.15</td>\n",
       "      <td>1.04</td>\n",
       "      <td>0.81</td>\n",
       "    </tr>\n",
       "    <tr>\n",
       "      <th>1952</th>\n",
       "      <td>0.53</td>\n",
       "      <td>0.37</td>\n",
       "      <td>0.34</td>\n",
       "      <td>0.29</td>\n",
       "      <td>0.20</td>\n",
       "      <td>0.00</td>\n",
       "      <td>-0.08</td>\n",
       "      <td>0.00</td>\n",
       "      <td>0.15</td>\n",
       "      <td>0.10</td>\n",
       "      <td>0.04</td>\n",
       "      <td>0.15</td>\n",
       "    </tr>\n",
       "    <tr>\n",
       "      <th>1953</th>\n",
       "      <td>0.40</td>\n",
       "      <td>0.60</td>\n",
       "      <td>0.63</td>\n",
       "      <td>0.66</td>\n",
       "      <td>0.75</td>\n",
       "      <td>0.77</td>\n",
       "      <td>0.75</td>\n",
       "      <td>0.73</td>\n",
       "      <td>0.78</td>\n",
       "      <td>0.84</td>\n",
       "      <td>0.84</td>\n",
       "      <td>0.81</td>\n",
       "    </tr>\n",
       "    <tr>\n",
       "      <th>1954</th>\n",
       "      <td>0.76</td>\n",
       "      <td>0.47</td>\n",
       "      <td>-0.05</td>\n",
       "      <td>-0.41</td>\n",
       "      <td>-0.54</td>\n",
       "      <td>-0.50</td>\n",
       "      <td>-0.64</td>\n",
       "      <td>-0.84</td>\n",
       "      <td>-0.90</td>\n",
       "      <td>-0.77</td>\n",
       "      <td>-0.73</td>\n",
       "      <td>-0.66</td>\n",
       "    </tr>\n",
       "  </tbody>\n",
       "</table>\n",
       "</div>"
      ],
      "text/plain": [
       "      January  February  March  April   May  June  July  August  September  \\\n",
       "Year                                                                         \n",
       "1950    -1.53     -1.34  -1.16  -1.18 -1.07 -0.85 -0.54   -0.42      -0.39   \n",
       "1951    -0.82     -0.54  -0.17   0.18  0.36  0.58  0.70    0.89       0.99   \n",
       "1952     0.53      0.37   0.34   0.29  0.20  0.00 -0.08    0.00       0.15   \n",
       "1953     0.40      0.60   0.63   0.66  0.75  0.77  0.75    0.73       0.78   \n",
       "1954     0.76      0.47  -0.05  -0.41 -0.54 -0.50 -0.64   -0.84      -0.90   \n",
       "\n",
       "      October  November  December  \n",
       "Year                               \n",
       "1950    -0.44     -0.60     -0.80  \n",
       "1951     1.15      1.04      0.81  \n",
       "1952     0.10      0.04      0.15  \n",
       "1953     0.84      0.84      0.81  \n",
       "1954    -0.77     -0.73     -0.66  "
      ]
     },
     "execution_count": 53,
     "metadata": {},
     "output_type": "execute_result"
    }
   ],
   "source": [
    "df.set_index('Year', inplace = True)\n",
    "df.head()"
   ]
  },
  {
   "cell_type": "code",
   "execution_count": 54,
   "metadata": {},
   "outputs": [
    {
     "data": {
      "text/plain": [
       "January      0\n",
       "February     0\n",
       "March        0\n",
       "April        0\n",
       "May          0\n",
       "June         0\n",
       "July         0\n",
       "August       0\n",
       "September    0\n",
       "October      0\n",
       "November     0\n",
       "December     0\n",
       "dtype: int64"
      ]
     },
     "execution_count": 54,
     "metadata": {},
     "output_type": "execute_result"
    }
   ],
   "source": [
    "df.isnull().sum()"
   ]
  },
  {
   "cell_type": "code",
   "execution_count": 55,
   "metadata": {},
   "outputs": [
    {
     "data": {
      "text/html": [
       "<div>\n",
       "<style scoped>\n",
       "    .dataframe tbody tr th:only-of-type {\n",
       "        vertical-align: middle;\n",
       "    }\n",
       "\n",
       "    .dataframe tbody tr th {\n",
       "        vertical-align: top;\n",
       "    }\n",
       "\n",
       "    .dataframe thead th {\n",
       "        text-align: right;\n",
       "    }\n",
       "</style>\n",
       "<table border=\"1\" class=\"dataframe\">\n",
       "  <thead>\n",
       "    <tr style=\"text-align: right;\">\n",
       "      <th>Year</th>\n",
       "      <th>1950</th>\n",
       "      <th>1951</th>\n",
       "      <th>1952</th>\n",
       "      <th>1953</th>\n",
       "      <th>1954</th>\n",
       "      <th>1955</th>\n",
       "      <th>1956</th>\n",
       "      <th>1957</th>\n",
       "      <th>1958</th>\n",
       "      <th>1959</th>\n",
       "      <th>...</th>\n",
       "      <th>2014</th>\n",
       "      <th>2015</th>\n",
       "      <th>2016</th>\n",
       "      <th>2017</th>\n",
       "      <th>2018</th>\n",
       "      <th>2019</th>\n",
       "      <th>2020</th>\n",
       "      <th>2021</th>\n",
       "      <th>2022</th>\n",
       "      <th>2023</th>\n",
       "    </tr>\n",
       "  </thead>\n",
       "  <tbody>\n",
       "    <tr>\n",
       "      <th>January</th>\n",
       "      <td>-1.53</td>\n",
       "      <td>-0.82</td>\n",
       "      <td>0.53</td>\n",
       "      <td>0.40</td>\n",
       "      <td>0.76</td>\n",
       "      <td>-0.68</td>\n",
       "      <td>-1.11</td>\n",
       "      <td>-0.25</td>\n",
       "      <td>1.81</td>\n",
       "      <td>0.61</td>\n",
       "      <td>...</td>\n",
       "      <td>-0.42</td>\n",
       "      <td>0.55</td>\n",
       "      <td>2.48</td>\n",
       "      <td>-0.34</td>\n",
       "      <td>-0.92</td>\n",
       "      <td>0.75</td>\n",
       "      <td>0.50</td>\n",
       "      <td>-1.05</td>\n",
       "      <td>-0.97</td>\n",
       "      <td>-0.67</td>\n",
       "    </tr>\n",
       "    <tr>\n",
       "      <th>February</th>\n",
       "      <td>-1.34</td>\n",
       "      <td>-0.54</td>\n",
       "      <td>0.37</td>\n",
       "      <td>0.60</td>\n",
       "      <td>0.47</td>\n",
       "      <td>-0.62</td>\n",
       "      <td>-0.76</td>\n",
       "      <td>0.06</td>\n",
       "      <td>1.66</td>\n",
       "      <td>0.62</td>\n",
       "      <td>...</td>\n",
       "      <td>-0.46</td>\n",
       "      <td>0.47</td>\n",
       "      <td>2.14</td>\n",
       "      <td>-0.16</td>\n",
       "      <td>-0.85</td>\n",
       "      <td>0.72</td>\n",
       "      <td>0.48</td>\n",
       "      <td>-0.93</td>\n",
       "      <td>-0.93</td>\n",
       "      <td>-0.43</td>\n",
       "    </tr>\n",
       "    <tr>\n",
       "      <th>March</th>\n",
       "      <td>-1.16</td>\n",
       "      <td>-0.17</td>\n",
       "      <td>0.34</td>\n",
       "      <td>0.63</td>\n",
       "      <td>-0.05</td>\n",
       "      <td>-0.69</td>\n",
       "      <td>-0.63</td>\n",
       "      <td>0.41</td>\n",
       "      <td>1.27</td>\n",
       "      <td>0.52</td>\n",
       "      <td>...</td>\n",
       "      <td>-0.27</td>\n",
       "      <td>0.53</td>\n",
       "      <td>1.58</td>\n",
       "      <td>0.05</td>\n",
       "      <td>-0.70</td>\n",
       "      <td>0.71</td>\n",
       "      <td>0.40</td>\n",
       "      <td>-0.84</td>\n",
       "      <td>-0.99</td>\n",
       "      <td>-0.14</td>\n",
       "    </tr>\n",
       "    <tr>\n",
       "      <th>April</th>\n",
       "      <td>-1.18</td>\n",
       "      <td>0.18</td>\n",
       "      <td>0.29</td>\n",
       "      <td>0.66</td>\n",
       "      <td>-0.41</td>\n",
       "      <td>-0.80</td>\n",
       "      <td>-0.54</td>\n",
       "      <td>0.72</td>\n",
       "      <td>0.93</td>\n",
       "      <td>0.33</td>\n",
       "      <td>...</td>\n",
       "      <td>0.04</td>\n",
       "      <td>0.70</td>\n",
       "      <td>0.94</td>\n",
       "      <td>0.20</td>\n",
       "      <td>-0.50</td>\n",
       "      <td>0.66</td>\n",
       "      <td>0.19</td>\n",
       "      <td>-0.66</td>\n",
       "      <td>-1.06</td>\n",
       "      <td>0.16</td>\n",
       "    </tr>\n",
       "    <tr>\n",
       "      <th>May</th>\n",
       "      <td>-1.07</td>\n",
       "      <td>0.36</td>\n",
       "      <td>0.20</td>\n",
       "      <td>0.75</td>\n",
       "      <td>-0.54</td>\n",
       "      <td>-0.79</td>\n",
       "      <td>-0.52</td>\n",
       "      <td>0.92</td>\n",
       "      <td>0.74</td>\n",
       "      <td>0.20</td>\n",
       "      <td>...</td>\n",
       "      <td>0.21</td>\n",
       "      <td>0.93</td>\n",
       "      <td>0.39</td>\n",
       "      <td>0.30</td>\n",
       "      <td>-0.22</td>\n",
       "      <td>0.54</td>\n",
       "      <td>-0.08</td>\n",
       "      <td>-0.48</td>\n",
       "      <td>-0.99</td>\n",
       "      <td>0.48</td>\n",
       "    </tr>\n",
       "    <tr>\n",
       "      <th>June</th>\n",
       "      <td>-0.85</td>\n",
       "      <td>0.58</td>\n",
       "      <td>0.00</td>\n",
       "      <td>0.77</td>\n",
       "      <td>-0.50</td>\n",
       "      <td>-0.72</td>\n",
       "      <td>-0.51</td>\n",
       "      <td>1.11</td>\n",
       "      <td>0.64</td>\n",
       "      <td>-0.07</td>\n",
       "      <td>...</td>\n",
       "      <td>0.16</td>\n",
       "      <td>1.18</td>\n",
       "      <td>-0.07</td>\n",
       "      <td>0.31</td>\n",
       "      <td>-0.01</td>\n",
       "      <td>0.45</td>\n",
       "      <td>-0.30</td>\n",
       "      <td>-0.38</td>\n",
       "      <td>-0.85</td>\n",
       "      <td>0.77</td>\n",
       "    </tr>\n",
       "    <tr>\n",
       "      <th>July</th>\n",
       "      <td>-0.54</td>\n",
       "      <td>0.70</td>\n",
       "      <td>-0.08</td>\n",
       "      <td>0.75</td>\n",
       "      <td>-0.64</td>\n",
       "      <td>-0.68</td>\n",
       "      <td>-0.57</td>\n",
       "      <td>1.25</td>\n",
       "      <td>0.57</td>\n",
       "      <td>-0.18</td>\n",
       "      <td>...</td>\n",
       "      <td>0.05</td>\n",
       "      <td>1.52</td>\n",
       "      <td>-0.36</td>\n",
       "      <td>0.14</td>\n",
       "      <td>0.09</td>\n",
       "      <td>0.28</td>\n",
       "      <td>-0.41</td>\n",
       "      <td>-0.40</td>\n",
       "      <td>-0.81</td>\n",
       "      <td>1.07</td>\n",
       "    </tr>\n",
       "    <tr>\n",
       "      <th>August</th>\n",
       "      <td>-0.42</td>\n",
       "      <td>0.89</td>\n",
       "      <td>0.00</td>\n",
       "      <td>0.73</td>\n",
       "      <td>-0.84</td>\n",
       "      <td>-0.75</td>\n",
       "      <td>-0.55</td>\n",
       "      <td>1.32</td>\n",
       "      <td>0.43</td>\n",
       "      <td>-0.28</td>\n",
       "      <td>...</td>\n",
       "      <td>0.07</td>\n",
       "      <td>1.86</td>\n",
       "      <td>-0.54</td>\n",
       "      <td>-0.11</td>\n",
       "      <td>0.23</td>\n",
       "      <td>0.14</td>\n",
       "      <td>-0.57</td>\n",
       "      <td>-0.49</td>\n",
       "      <td>-0.91</td>\n",
       "      <td>1.32</td>\n",
       "    </tr>\n",
       "    <tr>\n",
       "      <th>September</th>\n",
       "      <td>-0.39</td>\n",
       "      <td>0.99</td>\n",
       "      <td>0.15</td>\n",
       "      <td>0.78</td>\n",
       "      <td>-0.90</td>\n",
       "      <td>-1.09</td>\n",
       "      <td>-0.46</td>\n",
       "      <td>1.33</td>\n",
       "      <td>0.39</td>\n",
       "      <td>-0.09</td>\n",
       "      <td>...</td>\n",
       "      <td>0.23</td>\n",
       "      <td>2.16</td>\n",
       "      <td>-0.63</td>\n",
       "      <td>-0.38</td>\n",
       "      <td>0.49</td>\n",
       "      <td>0.19</td>\n",
       "      <td>-0.89</td>\n",
       "      <td>-0.67</td>\n",
       "      <td>-1.01</td>\n",
       "      <td>0.00</td>\n",
       "    </tr>\n",
       "    <tr>\n",
       "      <th>October</th>\n",
       "      <td>-0.44</td>\n",
       "      <td>1.15</td>\n",
       "      <td>0.10</td>\n",
       "      <td>0.84</td>\n",
       "      <td>-0.77</td>\n",
       "      <td>-1.42</td>\n",
       "      <td>-0.42</td>\n",
       "      <td>1.39</td>\n",
       "      <td>0.44</td>\n",
       "      <td>-0.03</td>\n",
       "      <td>...</td>\n",
       "      <td>0.49</td>\n",
       "      <td>2.42</td>\n",
       "      <td>-0.69</td>\n",
       "      <td>-0.65</td>\n",
       "      <td>0.76</td>\n",
       "      <td>0.35</td>\n",
       "      <td>-1.17</td>\n",
       "      <td>-0.81</td>\n",
       "      <td>-0.99</td>\n",
       "      <td>0.00</td>\n",
       "    </tr>\n",
       "    <tr>\n",
       "      <th>November</th>\n",
       "      <td>-0.60</td>\n",
       "      <td>1.04</td>\n",
       "      <td>0.04</td>\n",
       "      <td>0.84</td>\n",
       "      <td>-0.73</td>\n",
       "      <td>-1.67</td>\n",
       "      <td>-0.43</td>\n",
       "      <td>1.53</td>\n",
       "      <td>0.50</td>\n",
       "      <td>0.05</td>\n",
       "      <td>...</td>\n",
       "      <td>0.64</td>\n",
       "      <td>2.57</td>\n",
       "      <td>-0.67</td>\n",
       "      <td>-0.84</td>\n",
       "      <td>0.90</td>\n",
       "      <td>0.51</td>\n",
       "      <td>-1.27</td>\n",
       "      <td>-0.98</td>\n",
       "      <td>-0.92</td>\n",
       "      <td>0.00</td>\n",
       "    </tr>\n",
       "    <tr>\n",
       "      <th>December</th>\n",
       "      <td>-0.80</td>\n",
       "      <td>0.81</td>\n",
       "      <td>0.15</td>\n",
       "      <td>0.81</td>\n",
       "      <td>-0.66</td>\n",
       "      <td>-1.47</td>\n",
       "      <td>-0.43</td>\n",
       "      <td>1.74</td>\n",
       "      <td>0.61</td>\n",
       "      <td>-0.04</td>\n",
       "      <td>...</td>\n",
       "      <td>0.66</td>\n",
       "      <td>2.64</td>\n",
       "      <td>-0.56</td>\n",
       "      <td>-0.97</td>\n",
       "      <td>0.81</td>\n",
       "      <td>0.55</td>\n",
       "      <td>-1.19</td>\n",
       "      <td>-0.98</td>\n",
       "      <td>-0.82</td>\n",
       "      <td>0.00</td>\n",
       "    </tr>\n",
       "  </tbody>\n",
       "</table>\n",
       "<p>12 rows × 74 columns</p>\n",
       "</div>"
      ],
      "text/plain": [
       "Year       1950  1951  1952  1953  1954  1955  1956  1957  1958  1959  ...  \\\n",
       "January   -1.53 -0.82  0.53  0.40  0.76 -0.68 -1.11 -0.25  1.81  0.61  ...   \n",
       "February  -1.34 -0.54  0.37  0.60  0.47 -0.62 -0.76  0.06  1.66  0.62  ...   \n",
       "March     -1.16 -0.17  0.34  0.63 -0.05 -0.69 -0.63  0.41  1.27  0.52  ...   \n",
       "April     -1.18  0.18  0.29  0.66 -0.41 -0.80 -0.54  0.72  0.93  0.33  ...   \n",
       "May       -1.07  0.36  0.20  0.75 -0.54 -0.79 -0.52  0.92  0.74  0.20  ...   \n",
       "June      -0.85  0.58  0.00  0.77 -0.50 -0.72 -0.51  1.11  0.64 -0.07  ...   \n",
       "July      -0.54  0.70 -0.08  0.75 -0.64 -0.68 -0.57  1.25  0.57 -0.18  ...   \n",
       "August    -0.42  0.89  0.00  0.73 -0.84 -0.75 -0.55  1.32  0.43 -0.28  ...   \n",
       "September -0.39  0.99  0.15  0.78 -0.90 -1.09 -0.46  1.33  0.39 -0.09  ...   \n",
       "October   -0.44  1.15  0.10  0.84 -0.77 -1.42 -0.42  1.39  0.44 -0.03  ...   \n",
       "November  -0.60  1.04  0.04  0.84 -0.73 -1.67 -0.43  1.53  0.50  0.05  ...   \n",
       "December  -0.80  0.81  0.15  0.81 -0.66 -1.47 -0.43  1.74  0.61 -0.04  ...   \n",
       "\n",
       "Year       2014  2015  2016  2017  2018  2019  2020  2021  2022  2023  \n",
       "January   -0.42  0.55  2.48 -0.34 -0.92  0.75  0.50 -1.05 -0.97 -0.67  \n",
       "February  -0.46  0.47  2.14 -0.16 -0.85  0.72  0.48 -0.93 -0.93 -0.43  \n",
       "March     -0.27  0.53  1.58  0.05 -0.70  0.71  0.40 -0.84 -0.99 -0.14  \n",
       "April      0.04  0.70  0.94  0.20 -0.50  0.66  0.19 -0.66 -1.06  0.16  \n",
       "May        0.21  0.93  0.39  0.30 -0.22  0.54 -0.08 -0.48 -0.99  0.48  \n",
       "June       0.16  1.18 -0.07  0.31 -0.01  0.45 -0.30 -0.38 -0.85  0.77  \n",
       "July       0.05  1.52 -0.36  0.14  0.09  0.28 -0.41 -0.40 -0.81  1.07  \n",
       "August     0.07  1.86 -0.54 -0.11  0.23  0.14 -0.57 -0.49 -0.91  1.32  \n",
       "September  0.23  2.16 -0.63 -0.38  0.49  0.19 -0.89 -0.67 -1.01  0.00  \n",
       "October    0.49  2.42 -0.69 -0.65  0.76  0.35 -1.17 -0.81 -0.99  0.00  \n",
       "November   0.64  2.57 -0.67 -0.84  0.90  0.51 -1.27 -0.98 -0.92  0.00  \n",
       "December   0.66  2.64 -0.56 -0.97  0.81  0.55 -1.19 -0.98 -0.82  0.00  \n",
       "\n",
       "[12 rows x 74 columns]"
      ]
     },
     "execution_count": 55,
     "metadata": {},
     "output_type": "execute_result"
    }
   ],
   "source": [
    "data1 = df.transpose()\n",
    "data1"
   ]
  },
  {
   "cell_type": "code",
   "execution_count": 57,
   "metadata": {},
   "outputs": [
    {
     "data": {
      "text/plain": [
       "DatetimeIndex(['1950-01-01', '1950-02-01', '1950-03-01', '1950-04-01',\n",
       "               '1950-05-01', '1950-06-01', '1950-07-01', '1950-08-01',\n",
       "               '1950-09-01', '1950-10-01',\n",
       "               ...\n",
       "               '2023-03-01', '2023-04-01', '2023-05-01', '2023-06-01',\n",
       "               '2023-07-01', '2023-08-01', '2023-09-01', '2023-10-01',\n",
       "               '2023-11-01', '2023-12-01'],\n",
       "              dtype='datetime64[ns]', length=888, freq='MS')"
      ]
     },
     "execution_count": 57,
     "metadata": {},
     "output_type": "execute_result"
    }
   ],
   "source": [
    "dates = pd.date_range(start = '1950-01', freq = 'MS', periods = len(data1.columns)*12)\n",
    "dates"
   ]
  },
  {
   "cell_type": "code",
   "execution_count": 59,
   "metadata": {},
   "outputs": [
    {
     "data": {
      "text/plain": [
       "array([[-1.53, -1.34, -1.16, -1.18, -1.07, -0.85, -0.54, -0.42, -0.39,\n",
       "        -0.44, -0.6 , -0.8 ],\n",
       "       [-0.82, -0.54, -0.17,  0.18,  0.36,  0.58,  0.7 ,  0.89,  0.99,\n",
       "         1.15,  1.04,  0.81],\n",
       "       [ 0.53,  0.37,  0.34,  0.29,  0.2 ,  0.  , -0.08,  0.  ,  0.15,\n",
       "         0.1 ,  0.04,  0.15],\n",
       "       [ 0.4 ,  0.6 ,  0.63,  0.66,  0.75,  0.77,  0.75,  0.73,  0.78,\n",
       "         0.84,  0.84,  0.81],\n",
       "       [ 0.76,  0.47, -0.05, -0.41, -0.54, -0.5 , -0.64, -0.84, -0.9 ,\n",
       "        -0.77, -0.73, -0.66],\n",
       "       [-0.68, -0.62, -0.69, -0.8 , -0.79, -0.72, -0.68, -0.75, -1.09,\n",
       "        -1.42, -1.67, -1.47],\n",
       "       [-1.11, -0.76, -0.63, -0.54, -0.52, -0.51, -0.57, -0.55, -0.46,\n",
       "        -0.42, -0.43, -0.43],\n",
       "       [-0.25,  0.06,  0.41,  0.72,  0.92,  1.11,  1.25,  1.32,  1.33,\n",
       "         1.39,  1.53,  1.74],\n",
       "       [ 1.81,  1.66,  1.27,  0.93,  0.74,  0.64,  0.57,  0.43,  0.39,\n",
       "         0.44,  0.5 ,  0.61],\n",
       "       [ 0.61,  0.62,  0.52,  0.33,  0.2 , -0.07, -0.18, -0.28, -0.09,\n",
       "        -0.03,  0.05, -0.04],\n",
       "       [-0.1 , -0.1 , -0.07,  0.03,  0.02,  0.03,  0.13,  0.24,  0.27,\n",
       "         0.2 ,  0.12,  0.05],\n",
       "       [ 0.04,  0.03,  0.04,  0.09,  0.23,  0.27,  0.14, -0.13, -0.3 ,\n",
       "        -0.26, -0.19, -0.16],\n",
       "       [-0.24, -0.22, -0.2 , -0.26, -0.28, -0.2 , -0.04, -0.07, -0.11,\n",
       "        -0.22, -0.31, -0.43],\n",
       "       [-0.4 , -0.15,  0.15,  0.27,  0.31,  0.52,  0.86,  1.14,  1.22,\n",
       "         1.29,  1.37,  1.31],\n",
       "       [ 1.07,  0.62,  0.12, -0.33, -0.58, -0.58, -0.6 , -0.66, -0.76,\n",
       "        -0.8 , -0.82, -0.78],\n",
       "       [-0.59, -0.28, -0.07,  0.18,  0.46,  0.83,  1.22,  1.54,  1.85,\n",
       "         1.98,  1.97,  1.72],\n",
       "       [ 1.37,  1.17,  0.98,  0.66,  0.35,  0.24,  0.24,  0.12, -0.05,\n",
       "        -0.1 , -0.18, -0.3 ],\n",
       "       [-0.41, -0.48, -0.53, -0.45, -0.24, -0.  ,  0.05, -0.16, -0.3 ,\n",
       "        -0.38, -0.34, -0.44],\n",
       "       [-0.64, -0.74, -0.62, -0.44, -0.04,  0.28,  0.58,  0.53,  0.45,\n",
       "         0.55,  0.73,  0.98],\n",
       "       [ 1.13,  1.09,  0.95,  0.77,  0.61,  0.43,  0.36,  0.51,  0.79,\n",
       "         0.86,  0.81,  0.63],\n",
       "       [ 0.51,  0.34,  0.29,  0.19,  0.04, -0.3 , -0.63, -0.76, -0.77,\n",
       "        -0.74, -0.86, -1.15],\n",
       "       [-1.36, -1.38, -1.12, -0.85, -0.73, -0.74, -0.8 , -0.77, -0.82,\n",
       "        -0.85, -0.96, -0.9 ],\n",
       "       [-0.71, -0.35,  0.06,  0.41,  0.67,  0.92,  1.13,  1.37,  1.58,\n",
       "         1.84,  2.09,  2.12],\n",
       "       [ 1.84,  1.25,  0.54, -0.1 , -0.54, -0.87, -1.11, -1.28, -1.45,\n",
       "        -1.71, -1.95, -2.03],\n",
       "       [-1.84, -1.55, -1.23, -1.03, -0.91, -0.77, -0.53, -0.37, -0.41,\n",
       "        -0.61, -0.75, -0.64],\n",
       "       [-0.54, -0.57, -0.65, -0.73, -0.83, -0.98, -1.13, -1.2 , -1.37,\n",
       "        -1.43, -1.55, -1.65],\n",
       "       [-1.56, -1.17, -0.73, -0.47, -0.28, -0.05,  0.18,  0.35,  0.62,\n",
       "         0.81,  0.86,  0.85],\n",
       "       [ 0.71,  0.64,  0.34,  0.23,  0.21,  0.34,  0.35,  0.42,  0.57,\n",
       "         0.73,  0.81,  0.79],\n",
       "       [ 0.69,  0.42,  0.06, -0.18, -0.31, -0.29, -0.36, -0.42, -0.42,\n",
       "        -0.29, -0.08,  0.  ],\n",
       "       [ 0.03,  0.07,  0.2 ,  0.28,  0.23,  0.05,  0.04,  0.17,  0.33,\n",
       "         0.45,  0.52,  0.64],\n",
       "       [ 0.59,  0.46,  0.34,  0.38,  0.48,  0.46,  0.25,  0.03, -0.07,\n",
       "         0.02,  0.11, -0.01],\n",
       "       [-0.26, -0.5 , -0.47, -0.37, -0.26, -0.29, -0.3 , -0.25, -0.16,\n",
       "        -0.13, -0.15, -0.08],\n",
       "       [-0.05,  0.07,  0.19,  0.47,  0.66,  0.72,  0.79,  1.07,  1.58,\n",
       "         1.97,  2.18,  2.23],\n",
       "       [ 2.18,  1.92,  1.54,  1.29,  1.06,  0.72,  0.31, -0.08, -0.46,\n",
       "        -0.81, -1.  , -0.91],\n",
       "       [-0.6 , -0.42, -0.34, -0.43, -0.51, -0.45, -0.3 , -0.16, -0.24,\n",
       "        -0.56, -0.92, -1.14],\n",
       "       [-1.04, -0.85, -0.77, -0.78, -0.78, -0.63, -0.49, -0.46, -0.4 ,\n",
       "        -0.35, -0.27, -0.36],\n",
       "       [-0.49, -0.47, -0.31, -0.2 , -0.12, -0.04,  0.22,  0.44,  0.71,\n",
       "         0.94,  1.14,  1.22],\n",
       "       [ 1.23,  1.19,  1.06,  0.95,  0.97,  1.22,  1.51,  1.7 ,  1.65,\n",
       "         1.48,  1.25,  1.11],\n",
       "       [ 0.81,  0.54,  0.14, -0.31, -0.88, -1.3 , -1.3 , -1.11, -1.19,\n",
       "        -1.48, -1.8 , -1.85],\n",
       "       [-1.69, -1.43, -1.08, -0.83, -0.58, -0.4 , -0.31, -0.27, -0.24,\n",
       "        -0.22, -0.16, -0.05],\n",
       "       [ 0.14,  0.21,  0.28,  0.29,  0.29,  0.31,  0.33,  0.38,  0.39,\n",
       "         0.35,  0.4 ,  0.41],\n",
       "       [ 0.41,  0.26,  0.22,  0.26,  0.45,  0.64,  0.73,  0.64,  0.62,\n",
       "         0.79,  1.21,  1.53],\n",
       "       [ 1.71,  1.63,  1.48,  1.29,  1.06,  0.73,  0.37,  0.09, -0.13,\n",
       "        -0.25, -0.28, -0.13],\n",
       "       [ 0.09,  0.3 ,  0.5 ,  0.67,  0.7 ,  0.57,  0.32,  0.25,  0.15,\n",
       "         0.1 ,  0.04,  0.06],\n",
       "       [ 0.06,  0.07,  0.17,  0.31,  0.42,  0.41,  0.44,  0.43,  0.55,\n",
       "         0.74,  1.01,  1.09],\n",
       "       [ 0.96,  0.72,  0.53,  0.3 ,  0.14, -0.03, -0.24, -0.54, -0.81,\n",
       "        -0.97, -1.  , -0.98],\n",
       "       [-0.9 , -0.75, -0.59, -0.39, -0.31, -0.3 , -0.27, -0.32, -0.35,\n",
       "        -0.4 , -0.45, -0.49],\n",
       "       [-0.5 , -0.36, -0.1 ,  0.28,  0.75,  1.22,  1.6 ,  1.9 ,  2.14,\n",
       "         2.33,  2.4 ,  2.39],\n",
       "       [ 2.24,  1.93,  1.44,  0.99,  0.45, -0.13, -0.78, -1.12, -1.31,\n",
       "        -1.35, -1.48, -1.57],\n",
       "       [-1.55, -1.3 , -1.07, -0.98, -1.02, -1.04, -1.1 , -1.11, -1.16,\n",
       "        -1.26, -1.46, -1.65],\n",
       "       [-1.66, -1.41, -1.07, -0.81, -0.71, -0.64, -0.55, -0.51, -0.55,\n",
       "        -0.63, -0.75, -0.74],\n",
       "       [-0.68, -0.52, -0.44, -0.34, -0.25, -0.12, -0.08, -0.13, -0.19,\n",
       "        -0.29, -0.35, -0.31],\n",
       "       [-0.15,  0.03,  0.09,  0.2 ,  0.43,  0.65,  0.79,  0.86,  1.01,\n",
       "         1.21,  1.31,  1.14],\n",
       "       [ 0.92,  0.63,  0.38, -0.04, -0.26, -0.16,  0.08,  0.21,  0.26,\n",
       "         0.29,  0.35,  0.35],\n",
       "       [ 0.37,  0.31,  0.23,  0.17,  0.17,  0.28,  0.47,  0.64,  0.7 ,\n",
       "         0.67,  0.66,  0.69],\n",
       "       [ 0.64,  0.58,  0.45,  0.43,  0.29,  0.11, -0.06, -0.14, -0.11,\n",
       "        -0.29, -0.57, -0.84],\n",
       "       [-0.85, -0.77, -0.57, -0.37, -0.14, -0.03,  0.1 ,  0.3 ,  0.54,\n",
       "         0.77,  0.94,  0.94],\n",
       "       [ 0.66,  0.22, -0.12, -0.32, -0.38, -0.47, -0.56, -0.81, -1.07,\n",
       "        -1.34, -1.5 , -1.6 ],\n",
       "       [-1.64, -1.52, -1.29, -1.01, -0.84, -0.61, -0.37, -0.23, -0.24,\n",
       "        -0.35, -0.55, -0.73],\n",
       "       [-0.85, -0.79, -0.61, -0.33,  0.01,  0.28,  0.45,  0.58,  0.71,\n",
       "         1.01,  1.36,  1.56],\n",
       "       [ 1.5 ,  1.22,  0.84,  0.35, -0.17, -0.66, -1.05, -1.35, -1.56,\n",
       "        -1.64, -1.64, -1.59],\n",
       "       [-1.42, -1.19, -0.93, -0.73, -0.55, -0.44, -0.48, -0.62, -0.83,\n",
       "        -1.01, -1.09, -1.04],\n",
       "       [-0.86, -0.72, -0.59, -0.47, -0.26, -0.01,  0.25,  0.37,  0.37,\n",
       "         0.27,  0.05, -0.21],\n",
       "       [-0.43, -0.43, -0.34, -0.3 , -0.36, -0.41, -0.4 , -0.32, -0.26,\n",
       "        -0.18, -0.17, -0.27],\n",
       "       [-0.42, -0.46, -0.27,  0.04,  0.21,  0.16,  0.05,  0.07,  0.23,\n",
       "         0.49,  0.64,  0.66],\n",
       "       [ 0.55,  0.47,  0.53,  0.7 ,  0.93,  1.18,  1.52,  1.86,  2.16,\n",
       "         2.42,  2.57,  2.64],\n",
       "       [ 2.48,  2.14,  1.58,  0.94,  0.39, -0.07, -0.36, -0.54, -0.63,\n",
       "        -0.69, -0.67, -0.56],\n",
       "       [-0.34, -0.16,  0.05,  0.2 ,  0.3 ,  0.31,  0.14, -0.11, -0.38,\n",
       "        -0.65, -0.84, -0.97],\n",
       "       [-0.92, -0.85, -0.7 , -0.5 , -0.22, -0.01,  0.09,  0.23,  0.49,\n",
       "         0.76,  0.9 ,  0.81],\n",
       "       [ 0.75,  0.72,  0.71,  0.66,  0.54,  0.45,  0.28,  0.14,  0.19,\n",
       "         0.35,  0.51,  0.55],\n",
       "       [ 0.5 ,  0.48,  0.4 ,  0.19, -0.08, -0.3 , -0.41, -0.57, -0.89,\n",
       "        -1.17, -1.27, -1.19],\n",
       "       [-1.05, -0.93, -0.84, -0.66, -0.48, -0.38, -0.4 , -0.49, -0.67,\n",
       "        -0.81, -0.98, -0.98],\n",
       "       [-0.97, -0.93, -0.99, -1.06, -0.99, -0.85, -0.81, -0.91, -1.01,\n",
       "        -0.99, -0.92, -0.82],\n",
       "       [-0.67, -0.43, -0.14,  0.16,  0.48,  0.77,  1.07,  1.32,  0.  ,\n",
       "         0.  ,  0.  ,  0.  ]])"
      ]
     },
     "execution_count": 59,
     "metadata": {},
     "output_type": "execute_result"
    }
   ],
   "source": [
    "data_np = data1.transpose().to_numpy()\n",
    "shape = data_np.shape\n",
    "data_np"
   ]
  },
  {
   "cell_type": "code",
   "execution_count": 60,
   "metadata": {},
   "outputs": [
    {
     "data": {
      "text/plain": [
       "(888, 1)"
      ]
     },
     "execution_count": 60,
     "metadata": {},
     "output_type": "execute_result"
    }
   ],
   "source": [
    "data_np = data_np.reshape((shape[0] * shape[1], 1))\n",
    "data_np.shape"
   ]
  },
  {
   "cell_type": "code",
   "execution_count": 61,
   "metadata": {},
   "outputs": [
    {
     "data": {
      "text/html": [
       "<div>\n",
       "<style scoped>\n",
       "    .dataframe tbody tr th:only-of-type {\n",
       "        vertical-align: middle;\n",
       "    }\n",
       "\n",
       "    .dataframe tbody tr th {\n",
       "        vertical-align: top;\n",
       "    }\n",
       "\n",
       "    .dataframe thead th {\n",
       "        text-align: right;\n",
       "    }\n",
       "</style>\n",
       "<table border=\"1\" class=\"dataframe\">\n",
       "  <thead>\n",
       "    <tr style=\"text-align: right;\">\n",
       "      <th></th>\n",
       "      <th>Mean</th>\n",
       "    </tr>\n",
       "  </thead>\n",
       "  <tbody>\n",
       "    <tr>\n",
       "      <th>1950-01-01</th>\n",
       "      <td>-1.53</td>\n",
       "    </tr>\n",
       "    <tr>\n",
       "      <th>1950-02-01</th>\n",
       "      <td>-1.34</td>\n",
       "    </tr>\n",
       "    <tr>\n",
       "      <th>1950-03-01</th>\n",
       "      <td>-1.16</td>\n",
       "    </tr>\n",
       "    <tr>\n",
       "      <th>1950-04-01</th>\n",
       "      <td>-1.18</td>\n",
       "    </tr>\n",
       "    <tr>\n",
       "      <th>1950-05-01</th>\n",
       "      <td>-1.07</td>\n",
       "    </tr>\n",
       "  </tbody>\n",
       "</table>\n",
       "</div>"
      ],
      "text/plain": [
       "            Mean\n",
       "1950-01-01 -1.53\n",
       "1950-02-01 -1.34\n",
       "1950-03-01 -1.16\n",
       "1950-04-01 -1.18\n",
       "1950-05-01 -1.07"
      ]
     },
     "execution_count": 61,
     "metadata": {},
     "output_type": "execute_result"
    }
   ],
   "source": [
    "df = pd.DataFrame({'Mean' : data_np[:,0]})\n",
    "df.set_index(dates, inplace = True)\n",
    "df.head()"
   ]
  },
  {
   "cell_type": "code",
   "execution_count": 62,
   "metadata": {},
   "outputs": [
    {
     "data": {
      "text/plain": [
       "Text(0, 0.5, 'Mean across Month')"
      ]
     },
     "execution_count": 62,
     "metadata": {},
     "output_type": "execute_result"
    },
    {
     "data": {
      "image/png": "[encoded data removed]",
      "text/plain": [
       "<Figure size 1500x500 with 1 Axes>"
      ]
     },
     "metadata": {},
     "output_type": "display_data"
    }
   ],
   "source": [
    "plt.figure(figsize = (15,5))\n",
    "plt.plot(df.index, df['Mean'])\n",
    "plt.title('Yearly vs Monthly Mean')\n",
    "plt.xlabel('Year')\n",
    "plt.ylabel('Mean across Month')"
   ]
  },
  {
   "cell_type": "code",
   "execution_count": 63,
   "metadata": {},
   "outputs": [
    {
     "data": {
      "text/plain": [
       "(888, 1)"
      ]
     },
     "execution_count": 63,
     "metadata": {},
     "output_type": "execute_result"
    }
   ],
   "source": [
    "dataset = df.values\n",
    "dataset.shape"
   ]
  },
  {
   "cell_type": "code",
   "execution_count": 64,
   "metadata": {},
   "outputs": [],
   "source": [
    "train = dataset[0:696,:]\n",
    "test = dataset[696:,:]"
   ]
  },
  {
   "cell_type": "code",
   "execution_count": 65,
   "metadata": {},
   "outputs": [
    {
     "name": "stdout",
     "output_type": "stream",
     "text": [
      "Original data shape: (888, 1)\n",
      "Train shape: (696, 1)\n",
      "Test shape: (192, 1)\n"
     ]
    }
   ],
   "source": [
    "print(\"Original data shape:\",dataset.shape)\n",
    "print(\"Train shape:\",train.shape)\n",
    "print(\"Test shape:\",test.shape)"
   ]
  },
  {
   "cell_type": "code",
   "execution_count": 66,
   "metadata": {},
   "outputs": [
    {
     "data": {
      "text/plain": [
       "(888, 1)"
      ]
     },
     "execution_count": 66,
     "metadata": {},
     "output_type": "execute_result"
    }
   ],
   "source": [
    "scaler = MinMaxScaler(feature_range = (0,1))\n",
    "scaled_data = scaler.fit_transform(dataset)\n",
    "scaled_data.shape"
   ]
  },
  {
   "cell_type": "code",
   "execution_count": 67,
   "metadata": {},
   "outputs": [],
   "source": [
    "x_train, y_train = [], []\n",
    "for i in range(60,len(train)):\n",
    "    x_train.append(scaled_data[i-60:i,0])\n",
    "    y_train.append(scaled_data[i,0])\n",
    "x_train, y_train = np.array(x_train), np.array(y_train)"
   ]
  },
  {
   "cell_type": "code",
   "execution_count": 68,
   "metadata": {},
   "outputs": [
    {
     "data": {
      "text/plain": [
       "(636, 60)"
      ]
     },
     "execution_count": 68,
     "metadata": {},
     "output_type": "execute_result"
    }
   ],
   "source": [
    "x_train.shape"
   ]
  },
  {
   "cell_type": "code",
   "execution_count": 69,
   "metadata": {},
   "outputs": [
    {
     "data": {
      "text/plain": [
       "(636,)"
      ]
     },
     "execution_count": 69,
     "metadata": {},
     "output_type": "execute_result"
    }
   ],
   "source": [
    "y_train.shape"
   ]
  },
  {
   "cell_type": "code",
   "execution_count": 70,
   "metadata": {},
   "outputs": [
    {
     "data": {
      "text/plain": [
       "(636, 60, 1)"
      ]
     },
     "execution_count": 70,
     "metadata": {},
     "output_type": "execute_result"
    }
   ],
   "source": [
    "x_train = np.reshape(x_train, (x_train.shape[0],x_train.shape[1],1))\n",
    "x_train.shape"
   ]
  },
  {
   "cell_type": "code",
   "execution_count": 71,
   "metadata": {},
   "outputs": [],
   "source": [
    "model = Sequential()\n",
    "model.add(LSTM(units = 50, return_sequences = True, input_shape = (x_train.shape[1],1)))\n",
    "model.add(LSTM(units = 50))\n",
    "model.add(Dense(1))"
   ]
  },
  {
   "cell_type": "code",
   "execution_count": 72,
   "metadata": {},
   "outputs": [
    {
     "name": "stdout",
     "output_type": "stream",
     "text": [
      "Epoch 1/10\n",
      "636/636 - 29s - loss: 0.0133 - 29s/epoch - 45ms/step\n",
      "Epoch 2/10\n",
      "636/636 - 17s - loss: 0.0039 - 17s/epoch - 26ms/step\n",
      "Epoch 3/10\n",
      "636/636 - 17s - loss: 0.0022 - 17s/epoch - 26ms/step\n",
      "Epoch 4/10\n",
      "636/636 - 17s - loss: 0.0011 - 17s/epoch - 26ms/step\n",
      "Epoch 5/10\n",
      "636/636 - 16s - loss: 7.2237e-04 - 16s/epoch - 26ms/step\n",
      "Epoch 6/10\n",
      "636/636 - 18s - loss: 7.2910e-04 - 18s/epoch - 28ms/step\n",
      "Epoch 7/10\n",
      "636/636 - 17s - loss: 6.1567e-04 - 17s/epoch - 27ms/step\n",
      "Epoch 8/10\n",
      "636/636 - 17s - loss: 6.0103e-04 - 17s/epoch - 26ms/step\n",
      "Epoch 9/10\n",
      "636/636 - 17s - loss: 5.5470e-04 - 17s/epoch - 26ms/step\n",
      "Epoch 10/10\n",
      "636/636 - 17s - loss: 5.5070e-04 - 17s/epoch - 27ms/step\n"
     ]
    },
    {
     "data": {
      "text/plain": [
       "<keras.src.callbacks.History at 0x1dd460de820>"
      ]
     },
     "execution_count": 72,
     "metadata": {},
     "output_type": "execute_result"
    }
   ],
   "source": [
    "model.compile(loss = 'mean_squared_error', optimizer = 'adam')\n",
    "model.fit(x_train, y_train, epochs=10, batch_size = 1, verbose = 2)"
   ]
  },
  {
   "cell_type": "code",
   "execution_count": 73,
   "metadata": {},
   "outputs": [],
   "source": [
    "inputs = df[len(df) - len(test) - 60:].values\n",
    "inputs = inputs.reshape(-1,1)\n",
    "inputs = scaler.transform(inputs)"
   ]
  },
  {
   "cell_type": "code",
   "execution_count": 74,
   "metadata": {},
   "outputs": [],
   "source": [
    "X_test = []\n",
    "for i in range(60,inputs.shape[0]):\n",
    "    X_test.append(inputs[i-60:i,0])\n",
    "X_test = np.array(X_test)"
   ]
  },
  {
   "cell_type": "code",
   "execution_count": 75,
   "metadata": {},
   "outputs": [
    {
     "name": "stdout",
     "output_type": "stream",
     "text": [
      "6/6 [==============================] - 3s 40ms/step\n"
     ]
    }
   ],
   "source": [
    "X_test = np.reshape(X_test, (X_test.shape[0],X_test.shape[1],1))\n",
    "Mean = model.predict(X_test)\n",
    "Mean1 = scaler.inverse_transform(Mean)"
   ]
  },
  {
   "cell_type": "code",
   "execution_count": 76,
   "metadata": {},
   "outputs": [
    {
     "data": {
      "text/plain": [
       "0.2271911972936076"
      ]
     },
     "execution_count": 76,
     "metadata": {},
     "output_type": "execute_result"
    }
   ],
   "source": [
    "rms=np.sqrt(np.mean(np.power((test-Mean1),2)))\n",
    "rms"
   ]
  },
  {
   "cell_type": "code",
   "execution_count": 77,
   "metadata": {},
   "outputs": [
    {
     "data": {
      "text/plain": [
       "Text(0.5, 1.0, 'Forecasting on Actual data')"
      ]
     },
     "execution_count": 77,
     "metadata": {},
     "output_type": "execute_result"
    },
    {
     "data": {
      "image/png": "[encoded data removed]",
      "text/plain": [
       "<Figure size 1500x500 with 1 Axes>"
      ]
     },
     "metadata": {},
     "output_type": "display_data"
    }
   ],
   "source": [
    "train = df[:696]\n",
    "test = df[696:]\n",
    "test['Predictions'] = Mean1\n",
    "\n",
    "plt.figure(figsize=(15,5))\n",
    "plt.plot(train['Mean'])\n",
    "plt.plot(test['Mean'], color = 'black')\n",
    "plt.plot(test['Predictions'], color = 'orange')\n",
    "plt.xlabel('Years')\n",
    "plt.ylabel('Mean')\n",
    "plt.title('Forecasting on Actual data')"
   ]
  },
  {
   "cell_type": "code",
   "execution_count": 78,
   "metadata": {},
   "outputs": [
    {
     "name": "stdout",
     "output_type": "stream",
     "text": [
      "2/2 [==============================] - 2s 77ms/step\n"
     ]
    }
   ],
   "source": [
    "trainpred = model.predict(X_test,steps=2)"
   ]
  },
  {
   "cell_type": "code",
   "execution_count": 79,
   "metadata": {},
   "outputs": [
    {
     "data": {
      "text/plain": [
       "(192, 1)"
      ]
     },
     "execution_count": 79,
     "metadata": {},
     "output_type": "execute_result"
    }
   ],
   "source": [
    "trainpred.shape"
   ]
  },
  {
   "cell_type": "code",
   "execution_count": 80,
   "metadata": {},
   "outputs": [],
   "source": [
    "pred = scaler.inverse_transform(trainpred)"
   ]
  },
  {
   "cell_type": "code",
   "execution_count": 81,
   "metadata": {},
   "outputs": [
    {
     "data": {
      "text/plain": [
       "array([[-1.6465802 ],\n",
       "       [-1.6635817 ],\n",
       "       [-1.4284145 ],\n",
       "       [-1.113243  ],\n",
       "       [-0.8269015 ],\n",
       "       [-0.76859486],\n",
       "       [-0.43527356],\n",
       "       [-0.1253323 ],\n",
       "       [-0.18580464],\n",
       "       [-0.32373807],\n",
       "       [-0.41881827],\n",
       "       [-0.71806043],\n",
       "       [-0.86687136],\n",
       "       [-0.88831663],\n",
       "       [-0.7043257 ],\n",
       "       [-0.45132774],\n",
       "       [-0.10708496],\n",
       "       [ 0.30626875],\n",
       "       [ 0.46880642],\n",
       "       [ 0.53384626],\n",
       "       [ 0.73857486],\n",
       "       [ 0.86234343],\n",
       "       [ 1.3805809 ],\n",
       "       [ 1.7467126 ]], dtype=float32)"
      ]
     },
     "execution_count": 81,
     "metadata": {},
     "output_type": "execute_result"
    }
   ],
   "source": [
    "pred[0:24] "
   ]
  },
  {
   "cell_type": "code",
   "execution_count": 82,
   "metadata": {},
   "outputs": [
    {
     "data": {
      "text/html": [
       "<div>\n",
       "<style scoped>\n",
       "    .dataframe tbody tr th:only-of-type {\n",
       "        vertical-align: middle;\n",
       "    }\n",
       "\n",
       "    .dataframe tbody tr th {\n",
       "        vertical-align: top;\n",
       "    }\n",
       "\n",
       "    .dataframe thead th {\n",
       "        text-align: right;\n",
       "    }\n",
       "</style>\n",
       "<table border=\"1\" class=\"dataframe\">\n",
       "  <thead>\n",
       "    <tr style=\"text-align: right;\">\n",
       "      <th></th>\n",
       "      <th>Mean</th>\n",
       "      <th>Predictions</th>\n",
       "    </tr>\n",
       "  </thead>\n",
       "  <tbody>\n",
       "    <tr>\n",
       "      <th>2008-01-01</th>\n",
       "      <td>-1.64</td>\n",
       "      <td>-1.646580</td>\n",
       "    </tr>\n",
       "    <tr>\n",
       "      <th>2008-02-01</th>\n",
       "      <td>-1.52</td>\n",
       "      <td>-1.663582</td>\n",
       "    </tr>\n",
       "    <tr>\n",
       "      <th>2008-03-01</th>\n",
       "      <td>-1.29</td>\n",
       "      <td>-1.428414</td>\n",
       "    </tr>\n",
       "    <tr>\n",
       "      <th>2008-04-01</th>\n",
       "      <td>-1.01</td>\n",
       "      <td>-1.113243</td>\n",
       "    </tr>\n",
       "    <tr>\n",
       "      <th>2008-05-01</th>\n",
       "      <td>-0.84</td>\n",
       "      <td>-0.826901</td>\n",
       "    </tr>\n",
       "  </tbody>\n",
       "</table>\n",
       "</div>"
      ],
      "text/plain": [
       "            Mean  Predictions\n",
       "2008-01-01 -1.64    -1.646580\n",
       "2008-02-01 -1.52    -1.663582\n",
       "2008-03-01 -1.29    -1.428414\n",
       "2008-04-01 -1.01    -1.113243\n",
       "2008-05-01 -0.84    -0.826901"
      ]
     },
     "execution_count": 82,
     "metadata": {},
     "output_type": "execute_result"
    }
   ],
   "source": [
    "test.head()"
   ]
  },
  {
   "cell_type": "code",
   "execution_count": 85,
   "metadata": {},
   "outputs": [
    {
     "name": "stdout",
     "output_type": "stream",
     "text": [
      "Accuracy Score: 86.94\n"
     ]
    }
   ],
   "source": [
    "testScore = math.sqrt(mean_squared_error(test['Mean'][:120], trainpred[:120, 0])) * 100\n",
    "print('Accuracy Score: %.2f' % (testScore))"
   ]
  },
  {
   "cell_type": "code",
   "execution_count": 1,
   "metadata": {},
   "outputs": [],
   "source": [
    "step_yr = 2023\n",
    "yr = int(input('Enter the Year to Predict:'))\n",
    "c = yr - step_yr\n",
    "e = c-1\n",
    "b = pred[120+(e*12) : 120+(e*12)+12].mean(axis=0)"
   ]
  },
  {
   "cell_type": "code",
   "execution_count": null,
   "metadata": {},
   "outputs": [],
   "source": [
    "print(b)\n",
    "if b >= 0.5 and b <= 0.9:\n",
    "    print(yr, 'is Weak El-Nino')\n",
    "elif b >= 1.0 and b <= 1.4:\n",
    "    print('It is Moderate El-Nino')\n",
    "elif b >= 1.5 and b <= 1.9:\n",
    "    print(yr, 'is Strong El-Nino')\n",
    "elif b >= 2:\n",
    "    print(yr, 'is Very Strong El-Nino')\n",
    "elif b <=-0.5 and b >= -0.9:\n",
    "    print(yr, 'is Weak La-Nina')\n",
    "elif b <= -1 and b >= -1.4:\n",
    "    print(yr, 'is Moderate La-Nina')\n",
    "elif b <= -1.5:\n",
    "    print(yr, 'is Strong La-Nina')\n",
    "else:\n",
    "    print(yr, 'is a Moderate Year')"
   ]
  },
  {
   "cell_type": "code",
   "execution_count": null,
   "metadata": {},
   "outputs": [],
   "source": [
    "dates1 = pd.date_range(start = '2008-01', freq = 'MS', end = '2027-12')\n",
    "dates1"
   ]
  },
  {
   "cell_type": "code",
   "execution_count": null,
   "metadata": {},
   "outputs": [],
   "source": [
    "new_df = pd.DataFrame({'Predicted_values':pred[:,0]})"
   ]
  },
  {
   "cell_type": "code",
   "execution_count": null,
   "metadata": {},
   "outputs": [],
   "source": [
    "new_df.set_index(dates1, inplace = True)"
   ]
  },
  {
   "cell_type": "code",
   "execution_count": null,
   "metadata": {},
   "outputs": [],
   "source": [
    "new_df.head()"
   ]
  },
  {
   "cell_type": "code",
   "execution_count": null,
   "metadata": {},
   "outputs": [],
   "source": [
    "plt.figure(figsize=(15,5))\n",
    "plt.plot(train['Mean'])\n",
    "plt.plot(test['Mean'], color = 'black')\n",
    "plt.plot(test['Predictions'], color = 'orange')\n",
    "plt.plot(new_df['Predicted_values'][120:], color = 'red')\n",
    "plt.xlabel('Years')\n",
    "plt.ylabel('Mean')\n",
    "plt.legend(loc = True)\n",
    "plt.title('Forecasting on Actual data')"
   ]
  }
 ],
 "metadata": {
  "kernelspec": {
   "display_name": "base",
   "language": "python",
   "name": "python3"
  },
  "language_info": {
   "codemirror_mode": {
    "name": "ipython",
    "version": 3
   },
   "file_extension": ".py",
   "mimetype": "text/x-python",
   "name": "python",
   "nbconvert_exporter": "python",
   "pygments_lexer": "ipython3",
   "version": "3.9.13"
  }
 },
 "nbformat": 4,
 "nbformat_minor": 2
}
