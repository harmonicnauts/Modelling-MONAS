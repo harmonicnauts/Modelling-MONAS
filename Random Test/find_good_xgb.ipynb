{
 "cells": [
  {
   "cell_type": "code",
   "execution_count": 16,
   "metadata": {},
   "outputs": [],
   "source": [
    "from sklearn.model_selection import train_test_split\n",
    "from sklearn.metrics import mean_squared_error, mean_absolute_error, r2_score\n",
    "from sklearn.model_selection import GridSearchCV\n",
    "from xgboost import XGBRegressor\n",
    "\n",
    "def train_model(data, test_size=0.2, hyperparameters={}):\n",
    "    \"\"\"\n",
    "    Train a machine learning model.\n",
    "\n",
    "    Parameters:\n",
    "    - model: The machine learning model to be trained.\n",
    "    - data: A tuple or list containing features and labels.\n",
    "    - test_size: The proportion of the dataset to include in the test split.\n",
    "    - hyperparameters: Hyperparameters for the model (as a dictionary).\n",
    "\n",
    "    Returns:\n",
    "    - trained_model: The trained machine learning model.\n",
    "    - test_predictions: The predictions on the test set.\n",
    "    - test_labels: The actual labels of the test set.\n",
    "    - test_accuracy: The accuracy of the model on the test set.\n",
    "    \"\"\"\n",
    "    # Split the data into training and testing sets\n",
    "    features, labels = data\n",
    "    X_train, X_test, y_train, y_test = train_test_split(features, labels, test_size=test_size, random_state=42, shuffle=False)\n",
    "\n",
    "    model = XGBRegressor(**hyperparameters)\n",
    "    model.fit(X_train, y_train)\n",
    "    # # Hyperparameter tuning using GridSearchCV\n",
    "    # if hyperparameters:\n",
    "    #     grid_search = GridSearchCV(model, hyperparameters, cv=5)\n",
    "    #     grid_search.fit(X_train, y_train)\n",
    "    #     model = grid_search.best_estimator_\n",
    "    # else:\n",
    "    #     # Train the model with default hyperparameters\n",
    "    #     model.fit(X_train, y_train)\n",
    "\n",
    "    # Make predictions on the test set\n",
    "    test_predictions = model.predict(X_test)\n",
    "\n",
    "    # Evaluate the model on the test set\n",
    "    mse = mean_squared_error(y_test, test_predictions)\n",
    "    mae = mean_absolute_error(y_test, test_predictions)\n",
    "    r2  = r2_score(y_test, test_predictions)\n",
    "\n",
    "    return mse, mae, r2, test_predictions"
   ]
  },
  {
   "cell_type": "code",
   "execution_count": 38,
   "metadata": {},
   "outputs": [],
   "source": [
    "import warnings\n",
    "\n",
    "# Ignore all FutureWarnings\n",
    "warnings.simplefilter(action='ignore', category=FutureWarning)"
   ]
  },
  {
   "cell_type": "code",
   "execution_count": 72,
   "metadata": {},
   "outputs": [
    {
     "name": "stdout",
     "output_type": "stream",
     "text": [
      "Mean Squared Error: 2.9952137473952445\n",
      "Mean Absolute Error: 1.3498726493293727\n",
      "R2 Score: 0.6890593567648478\n",
      "\n"
     ]
    }
   ],
   "source": [
    "\n",
    "import pandas as pd\n",
    "\n",
    "dataframe = pd.read_csv('../../Data/data_fix_temp.txt')\n",
    "features =  dataframe.drop(columns=['t_obs','Date', 'con_prec.mm.', 'mic_prec.mm.', 'sha_prec.mm.', 'hari', 'UTC', 'LAT', 'LON']) \n",
    "target = dataframe['t_obs']\n",
    "data = (features, target)\n",
    "test_size = 0.5\n",
    "hyperparameters = {\n",
    "    'verbosity': 2,\n",
    "    'n_jobs': -1,\n",
    "    'colsample_bytree': 0.7,\n",
    "    'learning_rate': 0.09,\n",
    "    'max_depth': 8,\n",
    "    'min_child_weight': 2,\n",
    "    'n_estimators': 50,\n",
    "    'random_state': 6601,\n",
    "    'reg_alpha': 0.5,\n",
    "    'lambda' : 0.9,\n",
    "    'num_parallel_tree' : ,\n",
    "}\n",
    "mse, mae, r2, test_pred = train_model(data, test_size, hyperparameters)\n",
    "\n",
    "print(f'Mean Squared Error: {mse}')\n",
    "print(f'Mean Absolute Error: {mae}')\n",
    "print(f'R2 Score: {r2}\\n')"
   ]
  },
  {
   "cell_type": "markdown",
   "metadata": {},
   "source": [
    "###### 0.6875549881570844\n",
    "###### 'verbosity': 2,\n",
    "###### 'n_jobs': -1,\n",
    "###### 'colsample_bytree': 0.7,\n",
    "###### 'learning_rate': 0.09,\n",
    "###### 'max_depth': 8,\n",
    "###### 'min_child_weight': 2,\n",
    "###### 'n_estimators': 50,\n",
    "###### 'random_state': 6601,\n",
    "###### 'reg_alpha': 0.5,\n",
    "###### 'lambda' : 0.9,\n",
    "###### 'tree_method' : 'exact',"
   ]
  }
 ],
 "metadata": {
  "kernelspec": {
   "display_name": "Oppenheimer",
   "language": "python",
   "name": "oppenheimer"
  },
  "language_info": {
   "codemirror_mode": {
    "name": "ipython",
    "version": 3
   },
   "file_extension": ".py",
   "mimetype": "text/x-python",
   "name": "python",
   "nbconvert_exporter": "python",
   "pygments_lexer": "ipython3",
   "version": "3.10.12"
  }
 },
 "nbformat": 4,
 "nbformat_minor": 2
}
