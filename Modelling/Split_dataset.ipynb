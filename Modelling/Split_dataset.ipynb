{
 "cells": [
  {
   "cell_type": "code",
   "execution_count": 2,
   "metadata": {},
   "outputs": [],
   "source": [
    "import pandas as pd"
   ]
  },
  {
   "cell_type": "code",
   "execution_count": 4,
   "metadata": {},
   "outputs": [],
   "source": [
    "weather = pd.read_csv('C:/Users/Nycht/Documents/Programming/Project/MONAS Dashboard/Modelling/data_fix_temp.txt')"
   ]
  },
  {
   "cell_type": "code",
   "execution_count": 5,
   "metadata": {},
   "outputs": [],
   "source": [
    "# Dapatkan daftar kode lokasi unik\n",
    "unique_locations = weather['lokasi'].unique()"
   ]
  },
  {
   "cell_type": "code",
   "execution_count": 6,
   "metadata": {},
   "outputs": [
    {
     "data": {
      "text/plain": [
       "array([96001, 96009, 96011, 96015, 96017, 96031, 96033, 96035, 96037,\n",
       "       96041, 96043, 96071, 96073, 96075, 96087, 96089, 96091, 96107,\n",
       "       96109, 96145, 96147, 96161, 96163, 96165, 96167, 96171, 96179,\n",
       "       96191, 96195, 96207, 96221, 96223, 96237, 96239, 96249, 96253,\n",
       "       96255, 96257, 96291, 96293, 96295, 96297, 96503, 96505, 96509,\n",
       "       96525, 96529, 96535, 96557, 96559, 96565, 96581, 96583, 96585,\n",
       "       96595, 96607, 96615, 96633, 96645, 96651, 96653, 96655, 96685,\n",
       "       96687, 96695, 96733, 96735, 96737, 96739, 96741, 96745, 96749,\n",
       "       96751, 96753, 96783, 96791, 96793, 96797, 96805, 96835, 96837,\n",
       "       96839, 96851, 96855, 96859, 96925, 96933, 96935, 96937, 96939,\n",
       "       96943, 96945, 96949, 96973, 96975, 96987, 97008, 97010, 97012,\n",
       "       97014, 97016, 97028, 97048, 97052, 97072, 97086, 97096, 97116,\n",
       "       97120, 97124, 97126, 97142, 97144, 97150, 97180, 97182, 97184,\n",
       "       97192, 97230, 97232, 97234, 97236, 97240, 97242, 97260, 97270,\n",
       "       97282, 97284, 97300, 97310, 97320, 97340, 97372, 97374, 97378,\n",
       "       97380, 97406, 97430, 97460, 97502, 97530, 97560, 97570, 97580,\n",
       "       97600, 97630, 97682, 97686, 97690, 97692, 97694, 97698, 97700,\n",
       "       97722, 97724, 97726, 97730, 97748, 97760, 97780, 97790, 97796,\n",
       "       97810, 97876, 97900, 97978, 97980, 99921, 99992], dtype=int64)"
      ]
     },
     "execution_count": 6,
     "metadata": {},
     "output_type": "execute_result"
    }
   ],
   "source": [
    "unique_locations"
   ]
  },
  {
   "cell_type": "code",
   "execution_count": 7,
   "metadata": {},
   "outputs": [],
   "source": [
    "# Iterasi melalui setiap kode lokasi\n",
    "for location in unique_locations:\n",
    "    # Buat subset dataset untuk lokasi saat ini\n",
    "    location_data = weather[weather['lokasi'] == location]\n",
    "\n",
    "    # Tentukan nama file CSV untuk lokasi saat ini\n",
    "    csv_filename = f'data_fix_temp_{location}.csv'\n",
    "\n",
    "    # Simpan subset dataset ke dalam file CSV terpisah\n",
    "    location_data.to_csv(csv_filename, index=False)\n"
   ]
  },
  {
   "cell_type": "code",
   "execution_count": null,
   "metadata": {},
   "outputs": [],
   "source": []
  }
 ],
 "metadata": {
  "kernelspec": {
   "display_name": "base",
   "language": "python",
   "name": "python3"
  },
  "language_info": {
   "codemirror_mode": {
    "name": "ipython",
    "version": 3
   },
   "file_extension": ".py",
   "mimetype": "text/x-python",
   "name": "python",
   "nbconvert_exporter": "python",
   "pygments_lexer": "ipython3",
   "version": "3.10.9"
  }
 },
 "nbformat": 4,
 "nbformat_minor": 2
}
