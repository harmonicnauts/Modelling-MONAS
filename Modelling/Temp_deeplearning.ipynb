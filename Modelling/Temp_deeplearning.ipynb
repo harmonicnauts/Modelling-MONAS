{
 "cells": [
  {
   "cell_type": "code",
   "execution_count": 3,
   "metadata": {},
   "outputs": [
    {
     "name": "stdout",
     "output_type": "stream",
     "text": [
      "Num GPUs Available:  1\n",
      "[PhysicalDevice(name='/physical_device:GPU:0', device_type='GPU')]\n"
     ]
    }
   ],
   "source": [
    "import tensorflow as tf\n",
    "print(\"Num GPUs Available: \", len(tf.config.list_physical_devices('GPU')))\n",
    "print(tf.config.list_physical_devices('GPU'))"
   ]
  },
  {
   "cell_type": "code",
   "execution_count": 6,
   "metadata": {},
   "outputs": [],
   "source": [
    "import pandas as pd\n",
    "from sklearn.model_selection import train_test_split"
   ]
  },
  {
   "cell_type": "code",
   "execution_count": 7,
   "metadata": {},
   "outputs": [],
   "source": [
    "dataframe = pd.read_csv('../../Data/data_fix_temp.txt')\n",
    "columns_to_drop=[\n",
    "    't_obs', \n",
    "    'lokasi',\n",
    "    'Date', \n",
    "    'con_prec.mm.', \n",
    "    'mic_prec.mm.', \n",
    "    'sha_prec.mm.',\n",
    "    'lcloud...',\t\n",
    "    'mcloud...', \n",
    "    'hcloud...', \n",
    "    'clmix.kg.kg.', \n",
    "    'wamix.kg.kg.', \n",
    "    'hari', \n",
    "    'UTC', \n",
    "    'LAT', \n",
    "    'LON',\n",
    "    ]\n",
    "\n",
    "features =  dataframe.drop(columns=columns_to_drop) \n",
    "target = dataframe['t_obs']\n",
    "\n",
    "X_train, X_test, y_train, y_test = train_test_split(features, target, test_size=0.2, random_state=42, shuffle=False)"
   ]
  },
  {
   "cell_type": "code",
   "execution_count": 8,
   "metadata": {},
   "outputs": [
    {
     "name": "stdout",
     "output_type": "stream",
     "text": [
      "Epoch 1/10\n",
      "13607/13607 [==============================] - 24s 2ms/step - loss: 197.7583 - mae: 197.7583\n",
      "Epoch 2/10\n",
      "13607/13607 [==============================] - 22s 2ms/step - loss: 7.9161 - mae: 7.9161\n",
      "Epoch 3/10\n",
      "13607/13607 [==============================] - 22s 2ms/step - loss: 8.7656 - mae: 8.7656\n",
      "Epoch 4/10\n",
      "13607/13607 [==============================] - 24s 2ms/step - loss: 8.7561 - mae: 8.7561\n",
      "Epoch 5/10\n",
      "13607/13607 [==============================] - 26s 2ms/step - loss: 9.0939 - mae: 9.0939\n",
      "Epoch 6/10\n",
      "13607/13607 [==============================] - 24s 2ms/step - loss: 8.9979 - mae: 8.9979\n",
      "Epoch 7/10\n",
      "13607/13607 [==============================] - 23s 2ms/step - loss: 8.8395 - mae: 8.8395\n",
      "Epoch 8/10\n",
      "13607/13607 [==============================] - 22s 2ms/step - loss: 9.1637 - mae: 9.1637\n",
      "Epoch 9/10\n",
      "13607/13607 [==============================] - 22s 2ms/step - loss: 8.8207 - mae: 8.8207\n",
      "Epoch 10/10\n",
      "13607/13607 [==============================] - 22s 2ms/step - loss: 8.7735 - mae: 8.7735\n"
     ]
    },
    {
     "data": {
      "text/plain": [
       "<keras.callbacks.History at 0x27cc3ca4d30>"
      ]
     },
     "execution_count": 8,
     "metadata": {},
     "output_type": "execute_result"
    }
   ],
   "source": [
    "tf.random.set_seed(42)  #first we set random seed\n",
    "model = tf.keras.Sequential([\n",
    "                             tf.keras.layers.Dense(1)\n",
    "])\n",
    "model.compile(loss = tf.keras.losses.mae, #mae stands for mean absolute error\n",
    "              optimizer = tf.keras.optimizers.Adam(), #stochastic GD\n",
    "              metrics = ['mae'])\n",
    "model.fit( X_train, y_train, epochs = 10)"
   ]
  },
  {
   "cell_type": "code",
   "execution_count": 10,
   "metadata": {},
   "outputs": [
    {
     "name": "stdout",
     "output_type": "stream",
     "text": [
      "3402/3402 [==============================] - 2s 727us/step\n",
      "Mean Squared Error: 227.5395656529174\n",
      "Root Mean Squared Error: 15.084414660599775\n",
      "Mean Absolute Error: 14.790522602283328\n",
      "R2 Score: -21.30019006281915\n",
      "\n"
     ]
    }
   ],
   "source": [
    "from sklearn.metrics import mean_squared_error, mean_absolute_error, r2_score\n",
    "\n",
    "test_predictions = model.predict(X_test)\n",
    "\n",
    "# Evaluate the model on the test set\n",
    "mse = mean_squared_error(y_test, test_predictions)\n",
    "rmse = mean_squared_error(y_test, test_predictions, squared=False)\n",
    "mae = mean_absolute_error(y_test, test_predictions)\n",
    "r2 = r2_score(y_test, test_predictions)\n",
    "\n",
    "print(f'Mean Squared Error: {mse}')\n",
    "print(f'Root Mean Squared Error: {rmse}')\n",
    "print(f'Mean Absolute Error: {mae}')\n",
    "print(f'R2 Score: {r2}\\n')"
   ]
  },
  {
   "cell_type": "code",
   "execution_count": 14,
   "metadata": {},
   "outputs": [
    {
     "name": "stdout",
     "output_type": "stream",
     "text": [
      "3402/3402 [==============================] - 3s 750us/step\n",
      "Tanpa Scaling\n",
      "Mean Squared Error: 227.5395656529174\n",
      "Root Mean Squared Error: 15.084414660599775\n",
      "Mean Absolute Error: 14.790522602283328\n",
      "R2 Score: -21.30019006281915\n",
      "\n"
     ]
    }
   ],
   "source": [
    "inp_nwp = pd.read_csv('../../Data/MONAS-input_nwp_compile.csv')\n",
    "\n",
    "test = inp_nwp.drop(columns=['Date', 'LAT', 'LON', 'prec_nwp'])\n",
    "test = test.rename(\n",
    "    columns={\n",
    "        'suhu2m(degC)' : 'suhu2m.degC.',\n",
    "        'dew2m(degC)' : 'dew2m.degC.',\n",
    "        'rh2m(%)' : 'rh2m...',\n",
    "        'wspeed(m/s)' : 'wspeed.m.s.',\n",
    "        'wdir(deg)' : 'wdir.deg.',\n",
    "        'lcloud(%)' : 'lcloud...',\n",
    "        'mcloud(%)' : 'mcloud...' ,\n",
    "        'hcloud(%)' : 'hcloud...',\n",
    "        'surpre(Pa)' : 'surpre.Pa.' ,\n",
    "        'clmix(kg/kg)' : 'clmix.kg.kg.' ,\n",
    "        'wamix(kg/kg)' : 'wamix.kg.kg.' ,\n",
    "        'outlr(W/m2)' : 'outlr.W.m2.' ,\n",
    "        'pblh(m)' : 'pblh.m.',\n",
    "        'lifcl(m)' : 'lifcl.m.' ,\n",
    "        'cape(j/kg)' : 'cape.j.kg.' ,\n",
    "        'mdbz' : 'mdbz' ,\n",
    "        't950(degC)' : 't950.degC.' ,\n",
    "        'rh950(%)' : 'rh950...',\n",
    "        'ws950(m/s)' : 'ws950.m.s.' ,\n",
    "        'wd950(deg)' : 'wd950.deg.' ,\n",
    "        't800(degC)' : 't800.degC.' ,\n",
    "        'rh800(%)' : 'rh800...' ,\n",
    "        'ws800(m/s)' : 'ws800.m.s.',\n",
    "        'wd800(deg)' : 'wd800.deg.' ,\n",
    "        't500(degC)' : 't500.degC.' ,\n",
    "        'rh500(%)' : 'rh500...' ,\n",
    "        'ws500(m/s)' : 'ws500.m.s.' ,\n",
    "        'wd500(deg)' : 'wd500.deg.',\n",
    "})\n",
    "#hcloud..., wamix.kg.kg., lcloud..., lokasi, clmix.kg.kg., mcloud...\n",
    "test = test.drop(columns=['lcloud...','mcloud...', 'hcloud...', 'clmix.kg.kg.', 'wamix.kg.kg.',])\n",
    "\n",
    "y_val_pred = model.predict(X_test)\n",
    "\n",
    "mse_val = mean_squared_error(y_test, y_val_pred)\n",
    "rmse_val = mean_squared_error(y_test, y_val_pred, squared=False)\n",
    "mae_val = mean_absolute_error(y_test, y_val_pred)\n",
    "r2_val = r2_score(y_test, y_val_pred)\n",
    "\n",
    "print('Tanpa Scaling')\n",
    "print(f'Mean Squared Error: {mse_val}')\n",
    "print(f'Root Mean Squared Error: {rmse_val}')\n",
    "print(f'Mean Absolute Error: {mae_val}')\n",
    "print(f'R2 Score: {r2_val}\\n')"
   ]
  },
  {
   "cell_type": "code",
   "execution_count": 15,
   "metadata": {},
   "outputs": [
    {
     "ename": "ValueError",
     "evalue": "Data must be 1-dimensional, got ndarray of shape (108855, 1) instead",
     "output_type": "error",
     "traceback": [
      "\u001b[1;31m---------------------------------------------------------------------------\u001b[0m",
      "\u001b[1;31mValueError\u001b[0m                                Traceback (most recent call last)",
      "\u001b[1;32mc:\\Users\\nasut\\OneDrive\\Documents\\Kuliah\\Semester 7\\PKKM\\BMKG\\Project\\MONAS-Dashboard\\Random Test\\Temp_deeplearning.ipynb Cell 7\u001b[0m line \u001b[0;36m3\n\u001b[0;32m      <a href='vscode-notebook-cell:/c%3A/Users/nasut/OneDrive/Documents/Kuliah/Semester%207/PKKM/BMKG/Project/MONAS-Dashboard/Random%20Test/Temp_deeplearning.ipynb#X10sZmlsZQ%3D%3D?line=0'>1</a>\u001b[0m \u001b[39m#OUTPUT\u001b[39;00m\n\u001b[1;32m----> <a href='vscode-notebook-cell:/c%3A/Users/nasut/OneDrive/Documents/Kuliah/Semester%207/PKKM/BMKG/Project/MONAS-Dashboard/Random%20Test/Temp_deeplearning.ipynb#X10sZmlsZQ%3D%3D?line=2'>3</a>\u001b[0m combined \u001b[39m=\u001b[39m pd\u001b[39m.\u001b[39mconcat([dataframe[[\u001b[39m'\u001b[39m\u001b[39mDate\u001b[39m\u001b[39m'\u001b[39m, \u001b[39m'\u001b[39m\u001b[39mlokasi\u001b[39m\u001b[39m'\u001b[39m, \u001b[39m'\u001b[39m\u001b[39msuhu2m.degC.\u001b[39m\u001b[39m'\u001b[39m, \u001b[39m'\u001b[39m\u001b[39mLON\u001b[39m\u001b[39m'\u001b[39m,\u001b[39m'\u001b[39m\u001b[39mLAT\u001b[39m\u001b[39m'\u001b[39m,\u001b[39m'\u001b[39m\u001b[39mELEV\u001b[39m\u001b[39m'\u001b[39m]],y_test, pd\u001b[39m.\u001b[39;49mSeries(y_val_pred, index \u001b[39m=\u001b[39;49m X_test\u001b[39m.\u001b[39;49mindex)], axis\u001b[39m=\u001b[39m\u001b[39m1\u001b[39m)\n\u001b[0;32m      <a href='vscode-notebook-cell:/c%3A/Users/nasut/OneDrive/Documents/Kuliah/Semester%207/PKKM/BMKG/Project/MONAS-Dashboard/Random%20Test/Temp_deeplearning.ipynb#X10sZmlsZQ%3D%3D?line=3'>4</a>\u001b[0m combined\u001b[39m.\u001b[39mcolumns \u001b[39m=\u001b[39m [\u001b[39m'\u001b[39m\u001b[39mDate\u001b[39m\u001b[39m'\u001b[39m, \u001b[39m'\u001b[39m\u001b[39mlokasi\u001b[39m\u001b[39m'\u001b[39m, \u001b[39m'\u001b[39m\u001b[39msuhu2m.degC.\u001b[39m\u001b[39m'\u001b[39m, \u001b[39m'\u001b[39m\u001b[39mLON\u001b[39m\u001b[39m'\u001b[39m,\u001b[39m'\u001b[39m\u001b[39mLAT\u001b[39m\u001b[39m'\u001b[39m,\u001b[39m'\u001b[39m\u001b[39mELEV\u001b[39m\u001b[39m'\u001b[39m, \u001b[39m'\u001b[39m\u001b[39mt_obs\u001b[39m\u001b[39m'\u001b[39m, \u001b[39m'\u001b[39m\u001b[39mprediction\u001b[39m\u001b[39m'\u001b[39m]\n\u001b[0;32m      <a href='vscode-notebook-cell:/c%3A/Users/nasut/OneDrive/Documents/Kuliah/Semester%207/PKKM/BMKG/Project/MONAS-Dashboard/Random%20Test/Temp_deeplearning.ipynb#X10sZmlsZQ%3D%3D?line=4'>5</a>\u001b[0m combined \u001b[39m=\u001b[39m combined\u001b[39m.\u001b[39mdropna()\n",
      "File \u001b[1;32mc:\\Users\\nasut\\anaconda3\\envs\\Oppenheimer\\lib\\site-packages\\pandas\\core\\series.py:512\u001b[0m, in \u001b[0;36mSeries.__init__\u001b[1;34m(self, data, index, dtype, name, copy, fastpath)\u001b[0m\n\u001b[0;32m    510\u001b[0m         data \u001b[39m=\u001b[39m data\u001b[39m.\u001b[39mcopy()\n\u001b[0;32m    511\u001b[0m \u001b[39melse\u001b[39;00m:\n\u001b[1;32m--> 512\u001b[0m     data \u001b[39m=\u001b[39m sanitize_array(data, index, dtype, copy)\n\u001b[0;32m    514\u001b[0m     manager \u001b[39m=\u001b[39m get_option(\u001b[39m\"\u001b[39m\u001b[39mmode.data_manager\u001b[39m\u001b[39m\"\u001b[39m)\n\u001b[0;32m    515\u001b[0m     \u001b[39mif\u001b[39;00m manager \u001b[39m==\u001b[39m \u001b[39m\"\u001b[39m\u001b[39mblock\u001b[39m\u001b[39m\"\u001b[39m:\n",
      "File \u001b[1;32mc:\\Users\\nasut\\anaconda3\\envs\\Oppenheimer\\lib\\site-packages\\pandas\\core\\construction.py:636\u001b[0m, in \u001b[0;36msanitize_array\u001b[1;34m(data, index, dtype, copy, allow_2d)\u001b[0m\n\u001b[0;32m    633\u001b[0m             subarr \u001b[39m=\u001b[39m cast(np\u001b[39m.\u001b[39mndarray, subarr)\n\u001b[0;32m    634\u001b[0m             subarr \u001b[39m=\u001b[39m maybe_infer_to_datetimelike(subarr)\n\u001b[1;32m--> 636\u001b[0m subarr \u001b[39m=\u001b[39m _sanitize_ndim(subarr, data, dtype, index, allow_2d\u001b[39m=\u001b[39;49mallow_2d)\n\u001b[0;32m    638\u001b[0m \u001b[39mif\u001b[39;00m \u001b[39misinstance\u001b[39m(subarr, np\u001b[39m.\u001b[39mndarray):\n\u001b[0;32m    639\u001b[0m     \u001b[39m# at this point we should have dtype be None or subarr.dtype == dtype\u001b[39;00m\n\u001b[0;32m    640\u001b[0m     dtype \u001b[39m=\u001b[39m cast(np\u001b[39m.\u001b[39mdtype, dtype)\n",
      "File \u001b[1;32mc:\\Users\\nasut\\anaconda3\\envs\\Oppenheimer\\lib\\site-packages\\pandas\\core\\construction.py:695\u001b[0m, in \u001b[0;36m_sanitize_ndim\u001b[1;34m(result, data, dtype, index, allow_2d)\u001b[0m\n\u001b[0;32m    693\u001b[0m     \u001b[39mif\u001b[39;00m allow_2d:\n\u001b[0;32m    694\u001b[0m         \u001b[39mreturn\u001b[39;00m result\n\u001b[1;32m--> 695\u001b[0m     \u001b[39mraise\u001b[39;00m \u001b[39mValueError\u001b[39;00m(\n\u001b[0;32m    696\u001b[0m         \u001b[39mf\u001b[39m\u001b[39m\"\u001b[39m\u001b[39mData must be 1-dimensional, got ndarray of shape \u001b[39m\u001b[39m{\u001b[39;00mdata\u001b[39m.\u001b[39mshape\u001b[39m}\u001b[39;00m\u001b[39m instead\u001b[39m\u001b[39m\"\u001b[39m\n\u001b[0;32m    697\u001b[0m     )\n\u001b[0;32m    698\u001b[0m \u001b[39mif\u001b[39;00m is_object_dtype(dtype) \u001b[39mand\u001b[39;00m \u001b[39misinstance\u001b[39m(dtype, ExtensionDtype):\n\u001b[0;32m    699\u001b[0m     \u001b[39m# i.e. NumpyEADtype(\"O\")\u001b[39;00m\n\u001b[0;32m    701\u001b[0m     result \u001b[39m=\u001b[39m com\u001b[39m.\u001b[39masarray_tuplesafe(data, dtype\u001b[39m=\u001b[39mnp\u001b[39m.\u001b[39mdtype(\u001b[39m\"\u001b[39m\u001b[39mobject\u001b[39m\u001b[39m\"\u001b[39m))\n",
      "\u001b[1;31mValueError\u001b[0m: Data must be 1-dimensional, got ndarray of shape (108855, 1) instead"
     ]
    }
   ],
   "source": [
    "#OUTPUT\n",
    "\n",
    "combined = pd.concat([dataframe[['Date', 'lokasi', 'suhu2m.degC.', 'LON','LAT','ELEV']],y_test, pd.Series(y_val_pred, index = X_test.index)], axis=1)\n",
    "combined.columns = ['Date', 'lokasi', 'suhu2m.degC.', 'LON','LAT','ELEV', 't_obs', 'prediction']\n",
    "combined = combined.dropna()\n",
    "combined.tail(15)"
   ]
  },
  {
   "cell_type": "code",
   "execution_count": null,
   "metadata": {},
   "outputs": [],
   "source": []
  }
 ],
 "metadata": {
  "kernelspec": {
   "display_name": "Oppenheimer",
   "language": "python",
   "name": "oppenheimer"
  },
  "language_info": {
   "codemirror_mode": {
    "name": "ipython",
    "version": 3
   },
   "file_extension": ".py",
   "mimetype": "text/x-python",
   "name": "python",
   "nbconvert_exporter": "python",
   "pygments_lexer": "ipython3",
   "version": "3.10.12"
  }
 },
 "nbformat": 4,
 "nbformat_minor": 2
}
