{
  "cells": [
    {
      "cell_type": "code",
      "execution_count": 13,
      "id": "767ffe0e-6265-4e5f-a39e-1f51622dce59",
      "metadata": {
        "id": "767ffe0e-6265-4e5f-a39e-1f51622dce59"
      },
      "outputs": [],
      "source": [
        "from pycaret.regression import setup, compare_models, evaluate_model, predict_model, save_model, load_model"
      ]
    },
    {
      "cell_type": "code",
      "execution_count": 9,
      "id": "63310196-9e89-49b2-8bd3-c782106201f5",
      "metadata": {
        "id": "63310196-9e89-49b2-8bd3-c782106201f5"
      },
      "outputs": [],
      "source": [
        "import pandas as pd\n",
        "import numpy as np\n",
        "from math import sqrt\n",
        "from scipy import stats\n",
        "weather = pd.read_csv('C:/Users/nasut/OneDrive/Documents/Kuliah/Semester 7/PKKM/BMKG/Project/Data/data_fix_temp.txt')"
      ]
    },
    {
      "cell_type": "code",
      "execution_count": 10,
      "id": "ef170b73",
      "metadata": {},
      "outputs": [
        {
          "name": "stderr",
          "output_type": "stream",
          "text": [
            "c:\\Users\\nasut\\anaconda3\\envs\\PyCaretEnv\\lib\\site-packages\\numpy\\core\\_methods.py:236: RuntimeWarning: overflow encountered in multiply\n",
            "  x = um.multiply(x, x, out=x)\n",
            "c:\\Users\\nasut\\anaconda3\\envs\\PyCaretEnv\\lib\\site-packages\\numpy\\core\\_methods.py:247: RuntimeWarning: overflow encountered in reduce\n",
            "  ret = umr_sum(x, axis, dtype, out, keepdims=keepdims, where=where)\n",
            "c:\\Users\\nasut\\anaconda3\\envs\\PyCaretEnv\\lib\\site-packages\\pandas\\core\\arraylike.py:402: RuntimeWarning: divide by zero encountered in log\n",
            "  result = getattr(ufunc, method)(*inputs, **kwargs)\n"
          ]
        }
      ],
      "source": [
        "left_skewed_cols = [\"dew2m.degC.\", \"rh2m...\", \"lcloud...\", \"surpre.Pa.\", \"wamix.kg.kg.\", \"outlr.W.m2.\", \"rh950...\", \"rh800...\", \"rh500...\"]\n",
        "for col in left_skewed_cols:\n",
        "    weather[col], _ = stats.boxcox(weather[col] + 1)  \n",
        "\n",
        "right_skewed_cols = [\"wspeed.m.s.\", \"pblh.m.\", \"lifcl.m.\",  \"ws950.m.s.\", \"ws800.m.s.\", \"ws500.m.s.\"]\n",
        "for col in right_skewed_cols:\n",
        "    weather[col] = np.log(weather[col])  \n",
        "\n",
        "bimodal_cols = [\"wd500.deg.\", \"wd800.deg.\", \"wd950.deg.\"]\n",
        "num_bins = 5\n",
        "for col in bimodal_cols:\n",
        "    weather[col] = pd.cut(weather[col], bins=num_bins, labels=False)"
      ]
    },
    {
      "cell_type": "code",
      "execution_count": 11,
      "id": "d348a59b-1367-4653-8e7c-aa0cf3ee8b5c",
      "metadata": {
        "id": "d348a59b-1367-4653-8e7c-aa0cf3ee8b5c",
        "outputId": "d0234df1-5844-4741-8564-e9ea2f90fd65"
      },
      "outputs": [
        {
          "data": {
            "text/html": [
              "<div>\n",
              "<style scoped>\n",
              "    .dataframe tbody tr th:only-of-type {\n",
              "        vertical-align: middle;\n",
              "    }\n",
              "\n",
              "    .dataframe tbody tr th {\n",
              "        vertical-align: top;\n",
              "    }\n",
              "\n",
              "    .dataframe thead th {\n",
              "        text-align: right;\n",
              "    }\n",
              "</style>\n",
              "<table border=\"1\" class=\"dataframe\">\n",
              "  <thead>\n",
              "    <tr style=\"text-align: right;\">\n",
              "      <th></th>\n",
              "      <th>Date</th>\n",
              "      <th>lokasi</th>\n",
              "      <th>con_prec.mm.</th>\n",
              "      <th>mic_prec.mm.</th>\n",
              "      <th>sha_prec.mm.</th>\n",
              "      <th>suhu2m.degC.</th>\n",
              "      <th>dew2m.degC.</th>\n",
              "      <th>rh2m...</th>\n",
              "      <th>wspeed.m.s.</th>\n",
              "      <th>wdir.deg.</th>\n",
              "      <th>...</th>\n",
              "      <th>t500.degC.</th>\n",
              "      <th>rh500...</th>\n",
              "      <th>ws500.m.s.</th>\n",
              "      <th>wd500.deg.</th>\n",
              "      <th>hari</th>\n",
              "      <th>UTC</th>\n",
              "      <th>LAT</th>\n",
              "      <th>LON</th>\n",
              "      <th>ELEV</th>\n",
              "      <th>t_obs</th>\n",
              "    </tr>\n",
              "  </thead>\n",
              "  <tbody>\n",
              "    <tr>\n",
              "      <th>1</th>\n",
              "      <td>2021-02-27 15:00:00</td>\n",
              "      <td>96001</td>\n",
              "      <td>0.0</td>\n",
              "      <td>0.0</td>\n",
              "      <td>0</td>\n",
              "      <td>27.3973</td>\n",
              "      <td>1.030162e+08</td>\n",
              "      <td>22505.772593</td>\n",
              "      <td>1.233510</td>\n",
              "      <td>12.4580</td>\n",
              "      <td>...</td>\n",
              "      <td>-5.20890</td>\n",
              "      <td>43.351667</td>\n",
              "      <td>1.828295</td>\n",
              "      <td>0</td>\n",
              "      <td>0</td>\n",
              "      <td>12</td>\n",
              "      <td>5.87655</td>\n",
              "      <td>95.33785</td>\n",
              "      <td>126</td>\n",
              "      <td>23.2</td>\n",
              "    </tr>\n",
              "    <tr>\n",
              "      <th>2</th>\n",
              "      <td>2021-02-27 18:00:00</td>\n",
              "      <td>96001</td>\n",
              "      <td>0.0</td>\n",
              "      <td>0.0</td>\n",
              "      <td>0</td>\n",
              "      <td>27.0090</td>\n",
              "      <td>1.003779e+08</td>\n",
              "      <td>23513.207594</td>\n",
              "      <td>1.114817</td>\n",
              "      <td>27.2450</td>\n",
              "      <td>...</td>\n",
              "      <td>-5.05963</td>\n",
              "      <td>54.064421</td>\n",
              "      <td>1.786347</td>\n",
              "      <td>0</td>\n",
              "      <td>0</td>\n",
              "      <td>12</td>\n",
              "      <td>5.87655</td>\n",
              "      <td>95.33785</td>\n",
              "      <td>126</td>\n",
              "      <td>23.0</td>\n",
              "    </tr>\n",
              "    <tr>\n",
              "      <th>3</th>\n",
              "      <td>2021-02-27 21:00:00</td>\n",
              "      <td>96001</td>\n",
              "      <td>0.0</td>\n",
              "      <td>0.0</td>\n",
              "      <td>0</td>\n",
              "      <td>26.5672</td>\n",
              "      <td>9.769189e+07</td>\n",
              "      <td>24752.621168</td>\n",
              "      <td>0.715672</td>\n",
              "      <td>37.3569</td>\n",
              "      <td>...</td>\n",
              "      <td>-4.89987</td>\n",
              "      <td>72.824565</td>\n",
              "      <td>1.951798</td>\n",
              "      <td>0</td>\n",
              "      <td>0</td>\n",
              "      <td>12</td>\n",
              "      <td>5.87655</td>\n",
              "      <td>95.33785</td>\n",
              "      <td>126</td>\n",
              "      <td>21.6</td>\n",
              "    </tr>\n",
              "    <tr>\n",
              "      <th>4</th>\n",
              "      <td>2021-02-28 00:00:00</td>\n",
              "      <td>96001</td>\n",
              "      <td>0.0</td>\n",
              "      <td>0.0</td>\n",
              "      <td>0</td>\n",
              "      <td>26.4519</td>\n",
              "      <td>1.010744e+08</td>\n",
              "      <td>25644.899763</td>\n",
              "      <td>0.799793</td>\n",
              "      <td>20.1816</td>\n",
              "      <td>...</td>\n",
              "      <td>-4.72228</td>\n",
              "      <td>81.382797</td>\n",
              "      <td>2.021026</td>\n",
              "      <td>0</td>\n",
              "      <td>0</td>\n",
              "      <td>12</td>\n",
              "      <td>5.87655</td>\n",
              "      <td>95.33785</td>\n",
              "      <td>126</td>\n",
              "      <td>19.8</td>\n",
              "    </tr>\n",
              "    <tr>\n",
              "      <th>5</th>\n",
              "      <td>2021-02-28 03:00:00</td>\n",
              "      <td>96001</td>\n",
              "      <td>0.0</td>\n",
              "      <td>0.0</td>\n",
              "      <td>0</td>\n",
              "      <td>26.7230</td>\n",
              "      <td>9.618253e+07</td>\n",
              "      <td>23983.644615</td>\n",
              "      <td>0.851296</td>\n",
              "      <td>14.7934</td>\n",
              "      <td>...</td>\n",
              "      <td>-4.64246</td>\n",
              "      <td>105.304911</td>\n",
              "      <td>2.190476</td>\n",
              "      <td>1</td>\n",
              "      <td>0</td>\n",
              "      <td>12</td>\n",
              "      <td>5.87655</td>\n",
              "      <td>95.33785</td>\n",
              "      <td>126</td>\n",
              "      <td>28.4</td>\n",
              "    </tr>\n",
              "  </tbody>\n",
              "</table>\n",
              "<p>5 rows × 39 columns</p>\n",
              "</div>"
            ],
            "text/plain": [
              "                  Date  lokasi  con_prec.mm.  mic_prec.mm.  sha_prec.mm.  \\\n",
              "1  2021-02-27 15:00:00   96001           0.0           0.0             0   \n",
              "2  2021-02-27 18:00:00   96001           0.0           0.0             0   \n",
              "3  2021-02-27 21:00:00   96001           0.0           0.0             0   \n",
              "4  2021-02-28 00:00:00   96001           0.0           0.0             0   \n",
              "5  2021-02-28 03:00:00   96001           0.0           0.0             0   \n",
              "\n",
              "   suhu2m.degC.   dew2m.degC.       rh2m...  wspeed.m.s.  wdir.deg.  ...  \\\n",
              "1       27.3973  1.030162e+08  22505.772593     1.233510    12.4580  ...   \n",
              "2       27.0090  1.003779e+08  23513.207594     1.114817    27.2450  ...   \n",
              "3       26.5672  9.769189e+07  24752.621168     0.715672    37.3569  ...   \n",
              "4       26.4519  1.010744e+08  25644.899763     0.799793    20.1816  ...   \n",
              "5       26.7230  9.618253e+07  23983.644615     0.851296    14.7934  ...   \n",
              "\n",
              "   t500.degC.    rh500...  ws500.m.s.  wd500.deg.  hari  UTC      LAT  \\\n",
              "1    -5.20890   43.351667    1.828295           0     0   12  5.87655   \n",
              "2    -5.05963   54.064421    1.786347           0     0   12  5.87655   \n",
              "3    -4.89987   72.824565    1.951798           0     0   12  5.87655   \n",
              "4    -4.72228   81.382797    2.021026           0     0   12  5.87655   \n",
              "5    -4.64246  105.304911    2.190476           1     0   12  5.87655   \n",
              "\n",
              "        LON  ELEV  t_obs  \n",
              "1  95.33785   126   23.2  \n",
              "2  95.33785   126   23.0  \n",
              "3  95.33785   126   21.6  \n",
              "4  95.33785   126   19.8  \n",
              "5  95.33785   126   28.4  \n",
              "\n",
              "[5 rows x 39 columns]"
            ]
          },
          "execution_count": 11,
          "metadata": {},
          "output_type": "execute_result"
        }
      ],
      "source": [
        "weather.head()"
      ]
    },
    {
      "cell_type": "code",
      "execution_count": 15,
      "id": "151dfc04-75a1-42d4-a139-7bd423b49be1",
      "metadata": {
        "id": "151dfc04-75a1-42d4-a139-7bd423b49be1",
        "outputId": "1ee9f411-012c-4d93-9c83-10d6c693493d"
      },
      "outputs": [
        {
          "ename": "ValueError",
          "evalue": "Input X contains infinity or a value too large for dtype('float64').",
          "output_type": "error",
          "traceback": [
            "\u001b[1;31m---------------------------------------------------------------------------\u001b[0m",
            "\u001b[1;31mValueError\u001b[0m                                Traceback (most recent call last)",
            "\u001b[1;32mc:\\Users\\nasut\\OneDrive\\Documents\\Kuliah\\Semester 7\\PKKM\\BMKG\\Project\\MONAS-Dashboard\\Modelling\\test_regression.ipynb Cell 5\u001b[0m line \u001b[0;36m1\n\u001b[1;32m----> <a href='vscode-notebook-cell:/c%3A/Users/nasut/OneDrive/Documents/Kuliah/Semester%207/PKKM/BMKG/Project/MONAS-Dashboard/Modelling/test_regression.ipynb#W3sZmlsZQ%3D%3D?line=0'>1</a>\u001b[0m s \u001b[39m=\u001b[39m setup(weather, target\u001b[39m=\u001b[39;49m\u001b[39m'\u001b[39;49m\u001b[39mt_obs\u001b[39;49m\u001b[39m'\u001b[39;49m)\n",
            "File \u001b[1;32mc:\\Users\\nasut\\anaconda3\\envs\\PyCaretEnv\\lib\\site-packages\\pycaret\\regression\\functional.py:593\u001b[0m, in \u001b[0;36msetup\u001b[1;34m(data, data_func, target, index, train_size, test_data, ordinal_features, numeric_features, categorical_features, date_features, text_features, ignore_features, keep_features, preprocess, create_date_columns, imputation_type, numeric_imputation, categorical_imputation, iterative_imputation_iters, numeric_iterative_imputer, categorical_iterative_imputer, text_features_method, max_encoding_ohe, encoding_method, rare_to_value, rare_value, polynomial_features, polynomial_degree, low_variance_threshold, group_features, drop_groups, remove_multicollinearity, multicollinearity_threshold, bin_numeric_features, remove_outliers, outliers_method, outliers_threshold, transformation, transformation_method, normalize, normalize_method, pca, pca_method, pca_components, feature_selection, feature_selection_method, feature_selection_estimator, n_features_to_select, transform_target, transform_target_method, custom_pipeline, custom_pipeline_position, data_split_shuffle, data_split_stratify, fold_strategy, fold, fold_shuffle, fold_groups, n_jobs, use_gpu, html, session_id, system_log, log_experiment, experiment_name, experiment_custom_tags, log_plots, log_profile, log_data, verbose, memory, profile, profile_kwargs)\u001b[0m\n\u001b[0;32m    591\u001b[0m exp \u001b[39m=\u001b[39m _EXPERIMENT_CLASS()\n\u001b[0;32m    592\u001b[0m set_current_experiment(exp)\n\u001b[1;32m--> 593\u001b[0m \u001b[39mreturn\u001b[39;00m exp\u001b[39m.\u001b[39;49msetup(\n\u001b[0;32m    594\u001b[0m     data\u001b[39m=\u001b[39;49mdata,\n\u001b[0;32m    595\u001b[0m     data_func\u001b[39m=\u001b[39;49mdata_func,\n\u001b[0;32m    596\u001b[0m     target\u001b[39m=\u001b[39;49mtarget,\n\u001b[0;32m    597\u001b[0m     index\u001b[39m=\u001b[39;49mindex,\n\u001b[0;32m    598\u001b[0m     train_size\u001b[39m=\u001b[39;49mtrain_size,\n\u001b[0;32m    599\u001b[0m     test_data\u001b[39m=\u001b[39;49mtest_data,\n\u001b[0;32m    600\u001b[0m     ordinal_features\u001b[39m=\u001b[39;49mordinal_features,\n\u001b[0;32m    601\u001b[0m     numeric_features\u001b[39m=\u001b[39;49mnumeric_features,\n\u001b[0;32m    602\u001b[0m     categorical_features\u001b[39m=\u001b[39;49mcategorical_features,\n\u001b[0;32m    603\u001b[0m     date_features\u001b[39m=\u001b[39;49mdate_features,\n\u001b[0;32m    604\u001b[0m     text_features\u001b[39m=\u001b[39;49mtext_features,\n\u001b[0;32m    605\u001b[0m     ignore_features\u001b[39m=\u001b[39;49mignore_features,\n\u001b[0;32m    606\u001b[0m     keep_features\u001b[39m=\u001b[39;49mkeep_features,\n\u001b[0;32m    607\u001b[0m     preprocess\u001b[39m=\u001b[39;49mpreprocess,\n\u001b[0;32m    608\u001b[0m     create_date_columns\u001b[39m=\u001b[39;49mcreate_date_columns,\n\u001b[0;32m    609\u001b[0m     imputation_type\u001b[39m=\u001b[39;49mimputation_type,\n\u001b[0;32m    610\u001b[0m     numeric_imputation\u001b[39m=\u001b[39;49mnumeric_imputation,\n\u001b[0;32m    611\u001b[0m     categorical_imputation\u001b[39m=\u001b[39;49mcategorical_imputation,\n\u001b[0;32m    612\u001b[0m     iterative_imputation_iters\u001b[39m=\u001b[39;49miterative_imputation_iters,\n\u001b[0;32m    613\u001b[0m     numeric_iterative_imputer\u001b[39m=\u001b[39;49mnumeric_iterative_imputer,\n\u001b[0;32m    614\u001b[0m     categorical_iterative_imputer\u001b[39m=\u001b[39;49mcategorical_iterative_imputer,\n\u001b[0;32m    615\u001b[0m     text_features_method\u001b[39m=\u001b[39;49mtext_features_method,\n\u001b[0;32m    616\u001b[0m     max_encoding_ohe\u001b[39m=\u001b[39;49mmax_encoding_ohe,\n\u001b[0;32m    617\u001b[0m     encoding_method\u001b[39m=\u001b[39;49mencoding_method,\n\u001b[0;32m    618\u001b[0m     rare_to_value\u001b[39m=\u001b[39;49mrare_to_value,\n\u001b[0;32m    619\u001b[0m     rare_value\u001b[39m=\u001b[39;49mrare_value,\n\u001b[0;32m    620\u001b[0m     polynomial_features\u001b[39m=\u001b[39;49mpolynomial_features,\n\u001b[0;32m    621\u001b[0m     polynomial_degree\u001b[39m=\u001b[39;49mpolynomial_degree,\n\u001b[0;32m    622\u001b[0m     low_variance_threshold\u001b[39m=\u001b[39;49mlow_variance_threshold,\n\u001b[0;32m    623\u001b[0m     group_features\u001b[39m=\u001b[39;49mgroup_features,\n\u001b[0;32m    624\u001b[0m     drop_groups\u001b[39m=\u001b[39;49mdrop_groups,\n\u001b[0;32m    625\u001b[0m     remove_multicollinearity\u001b[39m=\u001b[39;49mremove_multicollinearity,\n\u001b[0;32m    626\u001b[0m     multicollinearity_threshold\u001b[39m=\u001b[39;49mmulticollinearity_threshold,\n\u001b[0;32m    627\u001b[0m     bin_numeric_features\u001b[39m=\u001b[39;49mbin_numeric_features,\n\u001b[0;32m    628\u001b[0m     remove_outliers\u001b[39m=\u001b[39;49mremove_outliers,\n\u001b[0;32m    629\u001b[0m     outliers_method\u001b[39m=\u001b[39;49moutliers_method,\n\u001b[0;32m    630\u001b[0m     outliers_threshold\u001b[39m=\u001b[39;49moutliers_threshold,\n\u001b[0;32m    631\u001b[0m     transformation\u001b[39m=\u001b[39;49mtransformation,\n\u001b[0;32m    632\u001b[0m     transformation_method\u001b[39m=\u001b[39;49mtransformation_method,\n\u001b[0;32m    633\u001b[0m     normalize\u001b[39m=\u001b[39;49mnormalize,\n\u001b[0;32m    634\u001b[0m     normalize_method\u001b[39m=\u001b[39;49mnormalize_method,\n\u001b[0;32m    635\u001b[0m     pca\u001b[39m=\u001b[39;49mpca,\n\u001b[0;32m    636\u001b[0m     pca_method\u001b[39m=\u001b[39;49mpca_method,\n\u001b[0;32m    637\u001b[0m     pca_components\u001b[39m=\u001b[39;49mpca_components,\n\u001b[0;32m    638\u001b[0m     feature_selection\u001b[39m=\u001b[39;49mfeature_selection,\n\u001b[0;32m    639\u001b[0m     feature_selection_method\u001b[39m=\u001b[39;49mfeature_selection_method,\n\u001b[0;32m    640\u001b[0m     feature_selection_estimator\u001b[39m=\u001b[39;49mfeature_selection_estimator,\n\u001b[0;32m    641\u001b[0m     n_features_to_select\u001b[39m=\u001b[39;49mn_features_to_select,\n\u001b[0;32m    642\u001b[0m     transform_target\u001b[39m=\u001b[39;49mtransform_target,\n\u001b[0;32m    643\u001b[0m     transform_target_method\u001b[39m=\u001b[39;49mtransform_target_method,\n\u001b[0;32m    644\u001b[0m     custom_pipeline\u001b[39m=\u001b[39;49mcustom_pipeline,\n\u001b[0;32m    645\u001b[0m     custom_pipeline_position\u001b[39m=\u001b[39;49mcustom_pipeline_position,\n\u001b[0;32m    646\u001b[0m     data_split_shuffle\u001b[39m=\u001b[39;49mdata_split_shuffle,\n\u001b[0;32m    647\u001b[0m     data_split_stratify\u001b[39m=\u001b[39;49mdata_split_stratify,\n\u001b[0;32m    648\u001b[0m     fold_strategy\u001b[39m=\u001b[39;49mfold_strategy,\n\u001b[0;32m    649\u001b[0m     fold\u001b[39m=\u001b[39;49mfold,\n\u001b[0;32m    650\u001b[0m     fold_shuffle\u001b[39m=\u001b[39;49mfold_shuffle,\n\u001b[0;32m    651\u001b[0m     fold_groups\u001b[39m=\u001b[39;49mfold_groups,\n\u001b[0;32m    652\u001b[0m     n_jobs\u001b[39m=\u001b[39;49mn_jobs,\n\u001b[0;32m    653\u001b[0m     use_gpu\u001b[39m=\u001b[39;49muse_gpu,\n\u001b[0;32m    654\u001b[0m     html\u001b[39m=\u001b[39;49mhtml,\n\u001b[0;32m    655\u001b[0m     session_id\u001b[39m=\u001b[39;49msession_id,\n\u001b[0;32m    656\u001b[0m     system_log\u001b[39m=\u001b[39;49msystem_log,\n\u001b[0;32m    657\u001b[0m     log_experiment\u001b[39m=\u001b[39;49mlog_experiment,\n\u001b[0;32m    658\u001b[0m     experiment_name\u001b[39m=\u001b[39;49mexperiment_name,\n\u001b[0;32m    659\u001b[0m     experiment_custom_tags\u001b[39m=\u001b[39;49mexperiment_custom_tags,\n\u001b[0;32m    660\u001b[0m     log_plots\u001b[39m=\u001b[39;49mlog_plots,\n\u001b[0;32m    661\u001b[0m     log_profile\u001b[39m=\u001b[39;49mlog_profile,\n\u001b[0;32m    662\u001b[0m     log_data\u001b[39m=\u001b[39;49mlog_data,\n\u001b[0;32m    663\u001b[0m     verbose\u001b[39m=\u001b[39;49mverbose,\n\u001b[0;32m    664\u001b[0m     memory\u001b[39m=\u001b[39;49mmemory,\n\u001b[0;32m    665\u001b[0m     profile\u001b[39m=\u001b[39;49mprofile,\n\u001b[0;32m    666\u001b[0m     profile_kwargs\u001b[39m=\u001b[39;49mprofile_kwargs,\n\u001b[0;32m    667\u001b[0m )\n",
            "File \u001b[1;32mc:\\Users\\nasut\\anaconda3\\envs\\PyCaretEnv\\lib\\site-packages\\pycaret\\regression\\oop.py:852\u001b[0m, in \u001b[0;36mRegressionExperiment.setup\u001b[1;34m(self, data, data_func, target, index, train_size, test_data, ordinal_features, numeric_features, categorical_features, date_features, text_features, ignore_features, keep_features, preprocess, create_date_columns, imputation_type, numeric_imputation, categorical_imputation, iterative_imputation_iters, numeric_iterative_imputer, categorical_iterative_imputer, text_features_method, max_encoding_ohe, encoding_method, rare_to_value, rare_value, polynomial_features, polynomial_degree, low_variance_threshold, group_features, drop_groups, remove_multicollinearity, multicollinearity_threshold, bin_numeric_features, remove_outliers, outliers_method, outliers_threshold, transformation, transformation_method, normalize, normalize_method, pca, pca_method, pca_components, feature_selection, feature_selection_method, feature_selection_estimator, n_features_to_select, transform_target, transform_target_method, custom_pipeline, custom_pipeline_position, data_split_shuffle, data_split_stratify, fold_strategy, fold, fold_shuffle, fold_groups, n_jobs, use_gpu, html, session_id, system_log, log_experiment, experiment_name, experiment_custom_tags, log_plots, log_profile, log_data, engine, verbose, memory, profile, profile_kwargs)\u001b[0m\n\u001b[0;32m    849\u001b[0m \u001b[39mif\u001b[39;00m (\u001b[39m\"\u001b[39m\u001b[39mplaceholder\u001b[39m\u001b[39m\"\u001b[39m, \u001b[39mNone\u001b[39;00m) \u001b[39min\u001b[39;00m \u001b[39mself\u001b[39m\u001b[39m.\u001b[39mpipeline\u001b[39m.\u001b[39msteps \u001b[39mand\u001b[39;00m \u001b[39mlen\u001b[39m(\u001b[39mself\u001b[39m\u001b[39m.\u001b[39mpipeline) \u001b[39m>\u001b[39m \u001b[39m1\u001b[39m:\n\u001b[0;32m    850\u001b[0m     \u001b[39mself\u001b[39m\u001b[39m.\u001b[39mpipeline\u001b[39m.\u001b[39msteps\u001b[39m.\u001b[39mremove((\u001b[39m\"\u001b[39m\u001b[39mplaceholder\u001b[39m\u001b[39m\"\u001b[39m, \u001b[39mNone\u001b[39;00m))\n\u001b[1;32m--> 852\u001b[0m \u001b[39mself\u001b[39;49m\u001b[39m.\u001b[39;49mpipeline\u001b[39m.\u001b[39;49mfit(\u001b[39mself\u001b[39;49m\u001b[39m.\u001b[39;49mX_train, \u001b[39mself\u001b[39;49m\u001b[39m.\u001b[39;49my_train)\n\u001b[0;32m    854\u001b[0m \u001b[39mself\u001b[39m\u001b[39m.\u001b[39mlogger\u001b[39m.\u001b[39minfo(\u001b[39m\"\u001b[39m\u001b[39mFinished creating preprocessing pipeline.\u001b[39m\u001b[39m\"\u001b[39m)\n\u001b[0;32m    855\u001b[0m \u001b[39mself\u001b[39m\u001b[39m.\u001b[39mlogger\u001b[39m.\u001b[39minfo(\u001b[39mf\u001b[39m\u001b[39m\"\u001b[39m\u001b[39mPipeline: \u001b[39m\u001b[39m{\u001b[39;00m\u001b[39mself\u001b[39m\u001b[39m.\u001b[39mpipeline\u001b[39m}\u001b[39;00m\u001b[39m\"\u001b[39m)\n",
            "File \u001b[1;32mc:\\Users\\nasut\\anaconda3\\envs\\PyCaretEnv\\lib\\site-packages\\pycaret\\internal\\pipeline.py:262\u001b[0m, in \u001b[0;36mPipeline.fit\u001b[1;34m(self, X, y, **fit_params)\u001b[0m\n\u001b[0;32m    260\u001b[0m \u001b[39mdef\u001b[39;00m \u001b[39mfit\u001b[39m(\u001b[39mself\u001b[39m, X\u001b[39m=\u001b[39m\u001b[39mNone\u001b[39;00m, y\u001b[39m=\u001b[39m\u001b[39mNone\u001b[39;00m, \u001b[39m*\u001b[39m\u001b[39m*\u001b[39mfit_params):\n\u001b[0;32m    261\u001b[0m     fit_params_steps \u001b[39m=\u001b[39m \u001b[39mself\u001b[39m\u001b[39m.\u001b[39m_check_fit_params(\u001b[39m*\u001b[39m\u001b[39m*\u001b[39mfit_params)\n\u001b[1;32m--> 262\u001b[0m     X, y, _ \u001b[39m=\u001b[39m \u001b[39mself\u001b[39;49m\u001b[39m.\u001b[39;49m_fit(X, y, \u001b[39m*\u001b[39;49m\u001b[39m*\u001b[39;49mfit_params_steps)\n\u001b[0;32m    264\u001b[0m     \u001b[39mwith\u001b[39;00m _print_elapsed_time(\u001b[39m\"\u001b[39m\u001b[39mPipeline\u001b[39m\u001b[39m\"\u001b[39m, \u001b[39mself\u001b[39m\u001b[39m.\u001b[39m_log_message(\u001b[39mlen\u001b[39m(\u001b[39mself\u001b[39m\u001b[39m.\u001b[39msteps) \u001b[39m-\u001b[39m \u001b[39m1\u001b[39m)):\n\u001b[0;32m    265\u001b[0m         \u001b[39mif\u001b[39;00m \u001b[39mself\u001b[39m\u001b[39m.\u001b[39m_final_estimator \u001b[39m!=\u001b[39m \u001b[39m\"\u001b[39m\u001b[39mpassthrough\u001b[39m\u001b[39m\"\u001b[39m:\n",
            "File \u001b[1;32mc:\\Users\\nasut\\anaconda3\\envs\\PyCaretEnv\\lib\\site-packages\\pycaret\\internal\\pipeline.py:238\u001b[0m, in \u001b[0;36mPipeline._fit\u001b[1;34m(self, X, y, **fit_params_steps)\u001b[0m\n\u001b[0;32m    235\u001b[0m         cloned\u001b[39m.\u001b[39m_cache_full_transform \u001b[39m=\u001b[39m \u001b[39mFalse\u001b[39;00m\n\u001b[0;32m    237\u001b[0m     \u001b[39m# Fit or load the current transformer from cache\u001b[39;00m\n\u001b[1;32m--> 238\u001b[0m     fitted_transformer \u001b[39m=\u001b[39m \u001b[39mself\u001b[39;49m\u001b[39m.\u001b[39;49m_memory_fit(\n\u001b[0;32m    239\u001b[0m         transformer\u001b[39m=\u001b[39;49mcloned,\n\u001b[0;32m    240\u001b[0m         X\u001b[39m=\u001b[39;49mX,\n\u001b[0;32m    241\u001b[0m         y\u001b[39m=\u001b[39;49my,\n\u001b[0;32m    242\u001b[0m         message\u001b[39m=\u001b[39;49m\u001b[39mself\u001b[39;49m\u001b[39m.\u001b[39;49m_log_message(step_idx),\n\u001b[0;32m    243\u001b[0m         \u001b[39m*\u001b[39;49m\u001b[39m*\u001b[39;49mfit_params_steps\u001b[39m.\u001b[39;49mget(name, {}),\n\u001b[0;32m    244\u001b[0m     )\n\u001b[0;32m    245\u001b[0m     X, y \u001b[39m=\u001b[39m \u001b[39mself\u001b[39m\u001b[39m.\u001b[39m_memory_transform(\n\u001b[0;32m    246\u001b[0m         transformer\u001b[39m=\u001b[39mfitted_transformer,\n\u001b[0;32m    247\u001b[0m         X\u001b[39m=\u001b[39mX,\n\u001b[0;32m    248\u001b[0m         y\u001b[39m=\u001b[39my,\n\u001b[0;32m    249\u001b[0m     )\n\u001b[0;32m    251\u001b[0m \u001b[39m# Replace the transformer of the step with the fitted\u001b[39;00m\n\u001b[0;32m    252\u001b[0m \u001b[39m# transformer (necessary when loading from the cache)\u001b[39;00m\n",
            "File \u001b[1;32mc:\\Users\\nasut\\anaconda3\\envs\\PyCaretEnv\\lib\\site-packages\\joblib\\memory.py:655\u001b[0m, in \u001b[0;36mMemorizedFunc.__call__\u001b[1;34m(self, *args, **kwargs)\u001b[0m\n\u001b[0;32m    654\u001b[0m \u001b[39mdef\u001b[39;00m \u001b[39m__call__\u001b[39m(\u001b[39mself\u001b[39m, \u001b[39m*\u001b[39margs, \u001b[39m*\u001b[39m\u001b[39m*\u001b[39mkwargs):\n\u001b[1;32m--> 655\u001b[0m     \u001b[39mreturn\u001b[39;00m \u001b[39mself\u001b[39;49m\u001b[39m.\u001b[39;49m_cached_call(args, kwargs)[\u001b[39m0\u001b[39m]\n",
            "File \u001b[1;32mc:\\Users\\nasut\\anaconda3\\envs\\PyCaretEnv\\lib\\site-packages\\pycaret\\internal\\memory.py:398\u001b[0m, in \u001b[0;36mFastMemorizedFunc._cached_call\u001b[1;34m(self, args, kwargs, shelving)\u001b[0m\n\u001b[0;32m    395\u001b[0m \u001b[39mif\u001b[39;00m must_call:\n\u001b[0;32m    396\u001b[0m     \u001b[39m# PYCARET CHANGES\u001b[39;00m\n\u001b[0;32m    397\u001b[0m     \u001b[39mself\u001b[39m\u001b[39m.\u001b[39m_cached_output_identifiers \u001b[39m=\u001b[39m func_id, args_id\n\u001b[1;32m--> 398\u001b[0m     out, metadata \u001b[39m=\u001b[39m \u001b[39mself\u001b[39;49m\u001b[39m.\u001b[39;49mcall(\u001b[39m*\u001b[39;49margs, \u001b[39m*\u001b[39;49m\u001b[39m*\u001b[39;49mkwargs)\n\u001b[0;32m    399\u001b[0m     \u001b[39mif\u001b[39;00m \u001b[39mself\u001b[39m\u001b[39m.\u001b[39mmmap_mode \u001b[39mis\u001b[39;00m \u001b[39mnot\u001b[39;00m \u001b[39mNone\u001b[39;00m \u001b[39mand\u001b[39;00m metadata \u001b[39mis\u001b[39;00m \u001b[39mnot\u001b[39;00m \u001b[39mNone\u001b[39;00m:\n\u001b[0;32m    400\u001b[0m         \u001b[39m# PYCARET CHANGES END\u001b[39;00m\n\u001b[0;32m    401\u001b[0m         \u001b[39m# Memmap the output at the first call to be consistent with\u001b[39;00m\n\u001b[0;32m    402\u001b[0m         \u001b[39m# later calls\u001b[39;00m\n\u001b[0;32m    403\u001b[0m         \u001b[39mif\u001b[39;00m \u001b[39mself\u001b[39m\u001b[39m.\u001b[39m_verbose:\n",
            "File \u001b[1;32mc:\\Users\\nasut\\anaconda3\\envs\\PyCaretEnv\\lib\\site-packages\\pycaret\\internal\\memory.py:309\u001b[0m, in \u001b[0;36mFastMemorizedFunc.call\u001b[1;34m(self, *args, **kwargs)\u001b[0m\n\u001b[0;32m    307\u001b[0m \u001b[39m# PYCARET CHANGES\u001b[39;00m\n\u001b[0;32m    308\u001b[0m func_start_time \u001b[39m=\u001b[39m time\u001b[39m.\u001b[39mmonotonic()\n\u001b[1;32m--> 309\u001b[0m output \u001b[39m=\u001b[39m \u001b[39mself\u001b[39;49m\u001b[39m.\u001b[39;49mfunc(\u001b[39m*\u001b[39;49margs, \u001b[39m*\u001b[39;49m\u001b[39m*\u001b[39;49mkwargs)\n\u001b[0;32m    310\u001b[0m func_duration \u001b[39m=\u001b[39m time\u001b[39m.\u001b[39mmonotonic() \u001b[39m-\u001b[39m func_start_time\n\u001b[0;32m    311\u001b[0m \u001b[39mif\u001b[39;00m func_duration \u001b[39m>\u001b[39m\u001b[39m=\u001b[39m \u001b[39mself\u001b[39m\u001b[39m.\u001b[39mmin_time_to_cache:\n",
            "File \u001b[1;32mc:\\Users\\nasut\\anaconda3\\envs\\PyCaretEnv\\lib\\site-packages\\pycaret\\internal\\pipeline.py:66\u001b[0m, in \u001b[0;36m_fit_one\u001b[1;34m(transformer, X, y, message, **fit_params)\u001b[0m\n\u001b[0;32m     64\u001b[0m         \u001b[39mif\u001b[39;00m \u001b[39m\"\u001b[39m\u001b[39my\u001b[39m\u001b[39m\"\u001b[39m \u001b[39min\u001b[39;00m signature(transformer\u001b[39m.\u001b[39mfit)\u001b[39m.\u001b[39mparameters:\n\u001b[0;32m     65\u001b[0m             args\u001b[39m.\u001b[39mappend(y)\n\u001b[1;32m---> 66\u001b[0m         transformer\u001b[39m.\u001b[39;49mfit(\u001b[39m*\u001b[39;49margs, \u001b[39m*\u001b[39;49m\u001b[39m*\u001b[39;49mfit_params)\n\u001b[0;32m     67\u001b[0m \u001b[39mreturn\u001b[39;00m transformer\n",
            "File \u001b[1;32mc:\\Users\\nasut\\anaconda3\\envs\\PyCaretEnv\\lib\\site-packages\\pycaret\\internal\\preprocess\\transformers.py:229\u001b[0m, in \u001b[0;36mTransformerWrapper.fit\u001b[1;34m(self, X, y, **fit_params)\u001b[0m\n\u001b[0;32m    226\u001b[0m \u001b[39mif\u001b[39;00m \u001b[39m\"\u001b[39m\u001b[39my\u001b[39m\u001b[39m\"\u001b[39m \u001b[39min\u001b[39;00m transformer_params \u001b[39mand\u001b[39;00m y \u001b[39mis\u001b[39;00m \u001b[39mnot\u001b[39;00m \u001b[39mNone\u001b[39;00m:\n\u001b[0;32m    227\u001b[0m     args\u001b[39m.\u001b[39mappend(y)\n\u001b[1;32m--> 229\u001b[0m \u001b[39mself\u001b[39;49m\u001b[39m.\u001b[39;49mtransformer\u001b[39m.\u001b[39;49mfit(\u001b[39m*\u001b[39;49margs, \u001b[39m*\u001b[39;49m\u001b[39m*\u001b[39;49mfit_params)\n\u001b[0;32m    230\u001b[0m \u001b[39mreturn\u001b[39;00m \u001b[39mself\u001b[39m\n",
            "File \u001b[1;32mc:\\Users\\nasut\\anaconda3\\envs\\PyCaretEnv\\lib\\site-packages\\sklearn\\impute\\_base.py:390\u001b[0m, in \u001b[0;36mSimpleImputer.fit\u001b[1;34m(self, X, y)\u001b[0m\n\u001b[0;32m    381\u001b[0m \u001b[39mif\u001b[39;00m \u001b[39mself\u001b[39m\u001b[39m.\u001b[39mverbose \u001b[39m!=\u001b[39m \u001b[39m\"\u001b[39m\u001b[39mdeprecated\u001b[39m\u001b[39m\"\u001b[39m:\n\u001b[0;32m    382\u001b[0m     warnings\u001b[39m.\u001b[39mwarn(\n\u001b[0;32m    383\u001b[0m         \u001b[39m\"\u001b[39m\u001b[39mThe \u001b[39m\u001b[39m'\u001b[39m\u001b[39mverbose\u001b[39m\u001b[39m'\u001b[39m\u001b[39m parameter was deprecated in version \u001b[39m\u001b[39m\"\u001b[39m\n\u001b[0;32m    384\u001b[0m         \u001b[39m\"\u001b[39m\u001b[39m1.1 and will be removed in 1.3. A warning will \u001b[39m\u001b[39m\"\u001b[39m\n\u001b[1;32m   (...)\u001b[0m\n\u001b[0;32m    387\u001b[0m         \u001b[39mFutureWarning\u001b[39;00m,\n\u001b[0;32m    388\u001b[0m     )\n\u001b[1;32m--> 390\u001b[0m X \u001b[39m=\u001b[39m \u001b[39mself\u001b[39;49m\u001b[39m.\u001b[39;49m_validate_input(X, in_fit\u001b[39m=\u001b[39;49m\u001b[39mTrue\u001b[39;49;00m)\n\u001b[0;32m    392\u001b[0m \u001b[39m# default fill_value is 0 for numerical input and \"missing_value\"\u001b[39;00m\n\u001b[0;32m    393\u001b[0m \u001b[39m# otherwise\u001b[39;00m\n\u001b[0;32m    394\u001b[0m \u001b[39mif\u001b[39;00m \u001b[39mself\u001b[39m\u001b[39m.\u001b[39mfill_value \u001b[39mis\u001b[39;00m \u001b[39mNone\u001b[39;00m:\n",
            "File \u001b[1;32mc:\\Users\\nasut\\anaconda3\\envs\\PyCaretEnv\\lib\\site-packages\\sklearn\\impute\\_base.py:344\u001b[0m, in \u001b[0;36mSimpleImputer._validate_input\u001b[1;34m(self, X, in_fit)\u001b[0m\n\u001b[0;32m    342\u001b[0m         \u001b[39mraise\u001b[39;00m new_ve \u001b[39mfrom\u001b[39;00m \u001b[39mNone\u001b[39;00m\n\u001b[0;32m    343\u001b[0m     \u001b[39melse\u001b[39;00m:\n\u001b[1;32m--> 344\u001b[0m         \u001b[39mraise\u001b[39;00m ve\n\u001b[0;32m    346\u001b[0m \u001b[39mif\u001b[39;00m in_fit:\n\u001b[0;32m    347\u001b[0m     \u001b[39m# Use the dtype seen in `fit` for non-`fit` conversion\u001b[39;00m\n\u001b[0;32m    348\u001b[0m     \u001b[39mself\u001b[39m\u001b[39m.\u001b[39m_fit_dtype \u001b[39m=\u001b[39m X\u001b[39m.\u001b[39mdtype\n",
            "File \u001b[1;32mc:\\Users\\nasut\\anaconda3\\envs\\PyCaretEnv\\lib\\site-packages\\sklearn\\impute\\_base.py:327\u001b[0m, in \u001b[0;36mSimpleImputer._validate_input\u001b[1;34m(self, X, in_fit)\u001b[0m\n\u001b[0;32m    324\u001b[0m     force_all_finite \u001b[39m=\u001b[39m \u001b[39mTrue\u001b[39;00m\n\u001b[0;32m    326\u001b[0m \u001b[39mtry\u001b[39;00m:\n\u001b[1;32m--> 327\u001b[0m     X \u001b[39m=\u001b[39m \u001b[39mself\u001b[39;49m\u001b[39m.\u001b[39;49m_validate_data(\n\u001b[0;32m    328\u001b[0m         X,\n\u001b[0;32m    329\u001b[0m         reset\u001b[39m=\u001b[39;49min_fit,\n\u001b[0;32m    330\u001b[0m         accept_sparse\u001b[39m=\u001b[39;49m\u001b[39m\"\u001b[39;49m\u001b[39mcsc\u001b[39;49m\u001b[39m\"\u001b[39;49m,\n\u001b[0;32m    331\u001b[0m         dtype\u001b[39m=\u001b[39;49mdtype,\n\u001b[0;32m    332\u001b[0m         force_all_finite\u001b[39m=\u001b[39;49mforce_all_finite,\n\u001b[0;32m    333\u001b[0m         copy\u001b[39m=\u001b[39;49m\u001b[39mself\u001b[39;49m\u001b[39m.\u001b[39;49mcopy,\n\u001b[0;32m    334\u001b[0m     )\n\u001b[0;32m    335\u001b[0m \u001b[39mexcept\u001b[39;00m \u001b[39mValueError\u001b[39;00m \u001b[39mas\u001b[39;00m ve:\n\u001b[0;32m    336\u001b[0m     \u001b[39mif\u001b[39;00m \u001b[39m\"\u001b[39m\u001b[39mcould not convert\u001b[39m\u001b[39m\"\u001b[39m \u001b[39min\u001b[39;00m \u001b[39mstr\u001b[39m(ve):\n",
            "File \u001b[1;32mc:\\Users\\nasut\\anaconda3\\envs\\PyCaretEnv\\lib\\site-packages\\sklearn\\base.py:565\u001b[0m, in \u001b[0;36mBaseEstimator._validate_data\u001b[1;34m(self, X, y, reset, validate_separately, **check_params)\u001b[0m\n\u001b[0;32m    563\u001b[0m     \u001b[39mraise\u001b[39;00m \u001b[39mValueError\u001b[39;00m(\u001b[39m\"\u001b[39m\u001b[39mValidation should be done on X, y or both.\u001b[39m\u001b[39m\"\u001b[39m)\n\u001b[0;32m    564\u001b[0m \u001b[39melif\u001b[39;00m \u001b[39mnot\u001b[39;00m no_val_X \u001b[39mand\u001b[39;00m no_val_y:\n\u001b[1;32m--> 565\u001b[0m     X \u001b[39m=\u001b[39m check_array(X, input_name\u001b[39m=\u001b[39;49m\u001b[39m\"\u001b[39;49m\u001b[39mX\u001b[39;49m\u001b[39m\"\u001b[39;49m, \u001b[39m*\u001b[39;49m\u001b[39m*\u001b[39;49mcheck_params)\n\u001b[0;32m    566\u001b[0m     out \u001b[39m=\u001b[39m X\n\u001b[0;32m    567\u001b[0m \u001b[39melif\u001b[39;00m no_val_X \u001b[39mand\u001b[39;00m \u001b[39mnot\u001b[39;00m no_val_y:\n",
            "File \u001b[1;32mc:\\Users\\nasut\\anaconda3\\envs\\PyCaretEnv\\lib\\site-packages\\sklearn\\utils\\validation.py:921\u001b[0m, in \u001b[0;36mcheck_array\u001b[1;34m(array, accept_sparse, accept_large_sparse, dtype, order, copy, force_all_finite, ensure_2d, allow_nd, ensure_min_samples, ensure_min_features, estimator, input_name)\u001b[0m\n\u001b[0;32m    915\u001b[0m         \u001b[39mraise\u001b[39;00m \u001b[39mValueError\u001b[39;00m(\n\u001b[0;32m    916\u001b[0m             \u001b[39m\"\u001b[39m\u001b[39mFound array with dim \u001b[39m\u001b[39m%d\u001b[39;00m\u001b[39m. \u001b[39m\u001b[39m%s\u001b[39;00m\u001b[39m expected <= 2.\u001b[39m\u001b[39m\"\u001b[39m\n\u001b[0;32m    917\u001b[0m             \u001b[39m%\u001b[39m (array\u001b[39m.\u001b[39mndim, estimator_name)\n\u001b[0;32m    918\u001b[0m         )\n\u001b[0;32m    920\u001b[0m     \u001b[39mif\u001b[39;00m force_all_finite:\n\u001b[1;32m--> 921\u001b[0m         _assert_all_finite(\n\u001b[0;32m    922\u001b[0m             array,\n\u001b[0;32m    923\u001b[0m             input_name\u001b[39m=\u001b[39;49minput_name,\n\u001b[0;32m    924\u001b[0m             estimator_name\u001b[39m=\u001b[39;49mestimator_name,\n\u001b[0;32m    925\u001b[0m             allow_nan\u001b[39m=\u001b[39;49mforce_all_finite \u001b[39m==\u001b[39;49m \u001b[39m\"\u001b[39;49m\u001b[39mallow-nan\u001b[39;49m\u001b[39m\"\u001b[39;49m,\n\u001b[0;32m    926\u001b[0m         )\n\u001b[0;32m    928\u001b[0m \u001b[39mif\u001b[39;00m ensure_min_samples \u001b[39m>\u001b[39m \u001b[39m0\u001b[39m:\n\u001b[0;32m    929\u001b[0m     n_samples \u001b[39m=\u001b[39m _num_samples(array)\n",
            "File \u001b[1;32mc:\\Users\\nasut\\anaconda3\\envs\\PyCaretEnv\\lib\\site-packages\\sklearn\\utils\\validation.py:161\u001b[0m, in \u001b[0;36m_assert_all_finite\u001b[1;34m(X, allow_nan, msg_dtype, estimator_name, input_name)\u001b[0m\n\u001b[0;32m    144\u001b[0m \u001b[39mif\u001b[39;00m estimator_name \u001b[39mand\u001b[39;00m input_name \u001b[39m==\u001b[39m \u001b[39m\"\u001b[39m\u001b[39mX\u001b[39m\u001b[39m\"\u001b[39m \u001b[39mand\u001b[39;00m has_nan_error:\n\u001b[0;32m    145\u001b[0m     \u001b[39m# Improve the error message on how to handle missing values in\u001b[39;00m\n\u001b[0;32m    146\u001b[0m     \u001b[39m# scikit-learn.\u001b[39;00m\n\u001b[0;32m    147\u001b[0m     msg_err \u001b[39m+\u001b[39m\u001b[39m=\u001b[39m (\n\u001b[0;32m    148\u001b[0m         \u001b[39mf\u001b[39m\u001b[39m\"\u001b[39m\u001b[39m\\n\u001b[39;00m\u001b[39m{\u001b[39;00mestimator_name\u001b[39m}\u001b[39;00m\u001b[39m does not accept missing values\u001b[39m\u001b[39m\"\u001b[39m\n\u001b[0;32m    149\u001b[0m         \u001b[39m\"\u001b[39m\u001b[39m encoded as NaN natively. For supervised learning, you might want\u001b[39m\u001b[39m\"\u001b[39m\n\u001b[1;32m   (...)\u001b[0m\n\u001b[0;32m    159\u001b[0m         \u001b[39m\"\u001b[39m\u001b[39m#estimators-that-handle-nan-values\u001b[39m\u001b[39m\"\u001b[39m\n\u001b[0;32m    160\u001b[0m     )\n\u001b[1;32m--> 161\u001b[0m \u001b[39mraise\u001b[39;00m \u001b[39mValueError\u001b[39;00m(msg_err)\n",
            "\u001b[1;31mValueError\u001b[0m: Input X contains infinity or a value too large for dtype('float64')."
          ]
        }
      ],
      "source": [
        "s = setup(weather, target='t_obs')"
      ]
    },
    {
      "cell_type": "code",
      "execution_count": 16,
      "id": "4c8ea63c-0e4f-488a-a39d-82a7abc5395b",
      "metadata": {
        "id": "4c8ea63c-0e4f-488a-a39d-82a7abc5395b",
        "outputId": "7ddfd8af-bb47-4564-bcc4-1ebe28295681"
      },
      "outputs": [
        {
          "ename": "RuntimeError",
          "evalue": "This function/method requires the users to run setup() first.\nMore info: https://pycaret.gitbook.io/docs/get-started/quickstart",
          "output_type": "error",
          "traceback": [
            "\u001b[1;31m---------------------------------------------------------------------------\u001b[0m",
            "\u001b[1;31mRuntimeError\u001b[0m                              Traceback (most recent call last)",
            "\u001b[1;32mc:\\Users\\nasut\\OneDrive\\Documents\\Kuliah\\Semester 7\\PKKM\\BMKG\\Project\\MONAS-Dashboard\\Modelling\\test_regression.ipynb Cell 6\u001b[0m line \u001b[0;36m1\n\u001b[1;32m----> <a href='vscode-notebook-cell:/c%3A/Users/nasut/OneDrive/Documents/Kuliah/Semester%207/PKKM/BMKG/Project/MONAS-Dashboard/Modelling/test_regression.ipynb#W4sZmlsZQ%3D%3D?line=0'>1</a>\u001b[0m best_model \u001b[39m=\u001b[39m compare_models()\n",
            "File \u001b[1;32mc:\\Users\\nasut\\anaconda3\\envs\\PyCaretEnv\\lib\\site-packages\\pycaret\\utils\\generic.py:965\u001b[0m, in \u001b[0;36mcheck_if_global_is_not_none.<locals>.decorator.<locals>.wrapper\u001b[1;34m(*args, **kwargs)\u001b[0m\n\u001b[0;32m    963\u001b[0m     \u001b[39mif\u001b[39;00m globals_d[name] \u001b[39mis\u001b[39;00m \u001b[39mNone\u001b[39;00m:\n\u001b[0;32m    964\u001b[0m         \u001b[39mraise\u001b[39;00m \u001b[39mValueError\u001b[39;00m(message)\n\u001b[1;32m--> 965\u001b[0m \u001b[39mreturn\u001b[39;00m func(\u001b[39m*\u001b[39;49margs, \u001b[39m*\u001b[39;49m\u001b[39m*\u001b[39;49mkwargs)\n",
            "File \u001b[1;32mc:\\Users\\nasut\\anaconda3\\envs\\PyCaretEnv\\lib\\site-packages\\pycaret\\regression\\functional.py:805\u001b[0m, in \u001b[0;36mcompare_models\u001b[1;34m(include, exclude, fold, round, cross_validation, sort, n_select, budget_time, turbo, errors, fit_kwargs, groups, experiment_custom_tags, engine, verbose, parallel)\u001b[0m\n\u001b[0;32m    670\u001b[0m \u001b[39m@check_if_global_is_not_none\u001b[39m(\u001b[39mglobals\u001b[39m(), _CURRENT_EXPERIMENT_DECORATOR_DICT)\n\u001b[0;32m    671\u001b[0m \u001b[39mdef\u001b[39;00m \u001b[39mcompare_models\u001b[39m(\n\u001b[0;32m    672\u001b[0m     include: Optional[List[Union[\u001b[39mstr\u001b[39m, Any]]] \u001b[39m=\u001b[39m \u001b[39mNone\u001b[39;00m,\n\u001b[1;32m   (...)\u001b[0m\n\u001b[0;32m    687\u001b[0m     parallel: Optional[ParallelBackend] \u001b[39m=\u001b[39m \u001b[39mNone\u001b[39;00m,\n\u001b[0;32m    688\u001b[0m ):\n\u001b[0;32m    689\u001b[0m \u001b[39m    \u001b[39m\u001b[39m\"\"\"\u001b[39;00m\n\u001b[0;32m    690\u001b[0m \u001b[39m    This function trains and evaluates performance of all estimators available in the\u001b[39;00m\n\u001b[0;32m    691\u001b[0m \u001b[39m    model library using cross validation. The output of this function is a score grid\u001b[39;00m\n\u001b[1;32m   (...)\u001b[0m\n\u001b[0;32m    803\u001b[0m \n\u001b[0;32m    804\u001b[0m \u001b[39m    \"\"\"\u001b[39;00m\n\u001b[1;32m--> 805\u001b[0m     \u001b[39mreturn\u001b[39;00m _CURRENT_EXPERIMENT\u001b[39m.\u001b[39;49mcompare_models(\n\u001b[0;32m    806\u001b[0m         include\u001b[39m=\u001b[39;49minclude,\n\u001b[0;32m    807\u001b[0m         exclude\u001b[39m=\u001b[39;49mexclude,\n\u001b[0;32m    808\u001b[0m         fold\u001b[39m=\u001b[39;49mfold,\n\u001b[0;32m    809\u001b[0m         \u001b[39mround\u001b[39;49m\u001b[39m=\u001b[39;49m\u001b[39mround\u001b[39;49m,\n\u001b[0;32m    810\u001b[0m         cross_validation\u001b[39m=\u001b[39;49mcross_validation,\n\u001b[0;32m    811\u001b[0m         sort\u001b[39m=\u001b[39;49msort,\n\u001b[0;32m    812\u001b[0m         n_select\u001b[39m=\u001b[39;49mn_select,\n\u001b[0;32m    813\u001b[0m         budget_time\u001b[39m=\u001b[39;49mbudget_time,\n\u001b[0;32m    814\u001b[0m         turbo\u001b[39m=\u001b[39;49mturbo,\n\u001b[0;32m    815\u001b[0m         errors\u001b[39m=\u001b[39;49merrors,\n\u001b[0;32m    816\u001b[0m         fit_kwargs\u001b[39m=\u001b[39;49mfit_kwargs,\n\u001b[0;32m    817\u001b[0m         groups\u001b[39m=\u001b[39;49mgroups,\n\u001b[0;32m    818\u001b[0m         experiment_custom_tags\u001b[39m=\u001b[39;49mexperiment_custom_tags,\n\u001b[0;32m    819\u001b[0m         engine\u001b[39m=\u001b[39;49mengine,\n\u001b[0;32m    820\u001b[0m         verbose\u001b[39m=\u001b[39;49mverbose,\n\u001b[0;32m    821\u001b[0m         parallel\u001b[39m=\u001b[39;49mparallel,\n\u001b[0;32m    822\u001b[0m     )\n",
            "File \u001b[1;32mc:\\Users\\nasut\\anaconda3\\envs\\PyCaretEnv\\lib\\site-packages\\pycaret\\regression\\oop.py:1122\u001b[0m, in \u001b[0;36mRegressionExperiment.compare_models\u001b[1;34m(self, include, exclude, fold, round, cross_validation, sort, n_select, budget_time, turbo, errors, fit_kwargs, groups, experiment_custom_tags, engine, verbose, parallel)\u001b[0m\n\u001b[0;32m   1119\u001b[0m         \u001b[39mself\u001b[39m\u001b[39m.\u001b[39m_set_engine(estimator\u001b[39m=\u001b[39mestimator, engine\u001b[39m=\u001b[39meng, severity\u001b[39m=\u001b[39m\u001b[39m\"\u001b[39m\u001b[39merror\u001b[39m\u001b[39m\"\u001b[39m)\n\u001b[0;32m   1121\u001b[0m \u001b[39mtry\u001b[39;00m:\n\u001b[1;32m-> 1122\u001b[0m     return_values \u001b[39m=\u001b[39m \u001b[39msuper\u001b[39;49m()\u001b[39m.\u001b[39;49mcompare_models(\n\u001b[0;32m   1123\u001b[0m         include\u001b[39m=\u001b[39;49minclude,\n\u001b[0;32m   1124\u001b[0m         exclude\u001b[39m=\u001b[39;49mexclude,\n\u001b[0;32m   1125\u001b[0m         fold\u001b[39m=\u001b[39;49mfold,\n\u001b[0;32m   1126\u001b[0m         \u001b[39mround\u001b[39;49m\u001b[39m=\u001b[39;49m\u001b[39mround\u001b[39;49m,\n\u001b[0;32m   1127\u001b[0m         cross_validation\u001b[39m=\u001b[39;49mcross_validation,\n\u001b[0;32m   1128\u001b[0m         sort\u001b[39m=\u001b[39;49msort,\n\u001b[0;32m   1129\u001b[0m         n_select\u001b[39m=\u001b[39;49mn_select,\n\u001b[0;32m   1130\u001b[0m         budget_time\u001b[39m=\u001b[39;49mbudget_time,\n\u001b[0;32m   1131\u001b[0m         turbo\u001b[39m=\u001b[39;49mturbo,\n\u001b[0;32m   1132\u001b[0m         errors\u001b[39m=\u001b[39;49merrors,\n\u001b[0;32m   1133\u001b[0m         fit_kwargs\u001b[39m=\u001b[39;49mfit_kwargs,\n\u001b[0;32m   1134\u001b[0m         groups\u001b[39m=\u001b[39;49mgroups,\n\u001b[0;32m   1135\u001b[0m         experiment_custom_tags\u001b[39m=\u001b[39;49mexperiment_custom_tags,\n\u001b[0;32m   1136\u001b[0m         verbose\u001b[39m=\u001b[39;49mverbose,\n\u001b[0;32m   1137\u001b[0m         parallel\u001b[39m=\u001b[39;49mparallel,\n\u001b[0;32m   1138\u001b[0m         caller_params\u001b[39m=\u001b[39;49mcaller_params,\n\u001b[0;32m   1139\u001b[0m     )\n\u001b[0;32m   1141\u001b[0m \u001b[39mfinally\u001b[39;00m:\n\u001b[0;32m   1142\u001b[0m     \u001b[39mif\u001b[39;00m engine \u001b[39mis\u001b[39;00m \u001b[39mnot\u001b[39;00m \u001b[39mNone\u001b[39;00m:\n\u001b[0;32m   1143\u001b[0m         \u001b[39m# Reset the models back to the default engines\u001b[39;00m\n",
            "File \u001b[1;32mc:\\Users\\nasut\\anaconda3\\envs\\PyCaretEnv\\lib\\site-packages\\pycaret\\internal\\pycaret_experiment\\supervised_experiment.py:532\u001b[0m, in \u001b[0;36m_SupervisedExperiment.compare_models\u001b[1;34m(self, include, exclude, fold, round, cross_validation, sort, n_select, budget_time, turbo, errors, fit_kwargs, groups, experiment_custom_tags, probability_threshold, verbose, parallel, caller_params)\u001b[0m\n\u001b[0;32m    370\u001b[0m \u001b[39mdef\u001b[39;00m \u001b[39mcompare_models\u001b[39m(\n\u001b[0;32m    371\u001b[0m     \u001b[39mself\u001b[39m,\n\u001b[0;32m    372\u001b[0m     include: Optional[\n\u001b[1;32m   (...)\u001b[0m\n\u001b[0;32m    392\u001b[0m     caller_params: Optional[\u001b[39mdict\u001b[39m] \u001b[39m=\u001b[39m \u001b[39mNone\u001b[39;00m,\n\u001b[0;32m    393\u001b[0m ) \u001b[39m-\u001b[39m\u001b[39m>\u001b[39m List[Any]:\n\u001b[0;32m    394\u001b[0m \u001b[39m    \u001b[39m\u001b[39m\"\"\"\u001b[39;00m\n\u001b[0;32m    395\u001b[0m \u001b[39m    This function train all the models available in the model library and scores them\u001b[39;00m\n\u001b[0;32m    396\u001b[0m \u001b[39m    using Cross Validation. The output prints a score grid with Accuracy,\u001b[39;00m\n\u001b[1;32m   (...)\u001b[0m\n\u001b[0;32m    530\u001b[0m \n\u001b[0;32m    531\u001b[0m \u001b[39m    \"\"\"\u001b[39;00m\n\u001b[1;32m--> 532\u001b[0m     \u001b[39mself\u001b[39;49m\u001b[39m.\u001b[39;49m_check_setup_ran()\n\u001b[0;32m    534\u001b[0m     \u001b[39mif\u001b[39;00m parallel \u001b[39mis\u001b[39;00m \u001b[39mnot\u001b[39;00m \u001b[39mNone\u001b[39;00m:\n\u001b[0;32m    535\u001b[0m         \u001b[39mreturn\u001b[39;00m \u001b[39mself\u001b[39m\u001b[39m.\u001b[39m_parallel_compare_models(parallel, caller_params, turbo\u001b[39m=\u001b[39mturbo)\n",
            "File \u001b[1;32mc:\\Users\\nasut\\anaconda3\\envs\\PyCaretEnv\\lib\\site-packages\\pycaret\\internal\\pycaret_experiment\\pycaret_experiment.py:138\u001b[0m, in \u001b[0;36m_PyCaretExperiment._check_setup_ran\u001b[1;34m(self)\u001b[0m\n\u001b[0;32m    127\u001b[0m \u001b[39m\u001b[39m\u001b[39m\"\"\"Checks to see if setup has been run or not. If it has not been run, then\u001b[39;00m\n\u001b[0;32m    128\u001b[0m \u001b[39man error is raised. Useful for operations that require setup to be run before\u001b[39;00m\n\u001b[0;32m    129\u001b[0m \u001b[39mthey can be executed. e.g. in some experiments, setup must be run first before\u001b[39;00m\n\u001b[1;32m   (...)\u001b[0m\n\u001b[0;32m    135\u001b[0m \u001b[39m    If setup has not been run.\u001b[39;00m\n\u001b[0;32m    136\u001b[0m \u001b[39m\"\"\"\u001b[39;00m\n\u001b[0;32m    137\u001b[0m \u001b[39mif\u001b[39;00m \u001b[39mnot\u001b[39;00m \u001b[39mself\u001b[39m\u001b[39m.\u001b[39m_setup_ran:\n\u001b[1;32m--> 138\u001b[0m     \u001b[39mraise\u001b[39;00m \u001b[39mRuntimeError\u001b[39;00m(\n\u001b[0;32m    139\u001b[0m         \u001b[39m\"\u001b[39m\u001b[39mThis function/method requires the users to run setup() first.\u001b[39m\u001b[39m\"\u001b[39m\n\u001b[0;32m    140\u001b[0m         \u001b[39m\"\u001b[39m\u001b[39m\\n\u001b[39;00m\u001b[39mMore info: https://pycaret.gitbook.io/docs/get-started/quickstart\u001b[39m\u001b[39m\"\u001b[39m\n\u001b[0;32m    141\u001b[0m     )\n",
            "\u001b[1;31mRuntimeError\u001b[0m: This function/method requires the users to run setup() first.\nMore info: https://pycaret.gitbook.io/docs/get-started/quickstart"
          ]
        }
      ],
      "source": [
        "best_model = compare_models()"
      ]
    },
    {
      "cell_type": "code",
      "execution_count": 22,
      "id": "fc0f2ac7",
      "metadata": {
        "id": "fc0f2ac7",
        "outputId": "20cc450b-ace2-4e27-b820-76d1260f07ef"
      },
      "outputs": [
        {
          "name": "stdout",
          "output_type": "stream",
          "text": [
            "Transformation Pipeline and Model Successfully Loaded\n"
          ]
        }
      ],
      "source": [
        "best_model = load_model(r'C:/Users/nasut/OneDrive/Documents/Kuliah/Semester 7/PKKM/BMKG/Project/models/weather_extra_trees_regressor')"
      ]
    },
    {
      "cell_type": "code",
      "execution_count": null,
      "id": "82be61da",
      "metadata": {
        "colab": {
          "referenced_widgets": [
            "19bf94cd0eec4428bde0f2f77f19690e"
          ]
        },
        "id": "82be61da",
        "outputId": "f7a13a90-dac4-4222-81c8-33d63b42140e"
      },
      "outputs": [
        {
          "data": {
            "application/vnd.jupyter.widget-view+json": {
              "model_id": "19bf94cd0eec4428bde0f2f77f19690e",
              "version_major": 2,
              "version_minor": 0
            },
            "text/plain": [
              "interactive(children=(ToggleButtons(description='Plot Type:', icons=('',), options=(('Pipeline Plot', 'pipelin…"
            ]
          },
          "metadata": {},
          "output_type": "display_data"
        }
      ],
      "source": [
        "evaluate_model(best_model)"
      ]
    },
    {
      "cell_type": "code",
      "execution_count": null,
      "id": "a8557a70-3835-4df1-ab0d-fbd00ccc07cb",
      "metadata": {
        "colab": {
          "referenced_widgets": [
            "b5348f1ddbfb4fdb88f17e5f9a9af0a6"
          ]
        },
        "id": "a8557a70-3835-4df1-ab0d-fbd00ccc07cb",
        "outputId": "8a66da0b-044b-481b-9beb-678aacb57c29"
      },
      "outputs": [
        {
          "data": {
            "application/vnd.jupyter.widget-view+json": {
              "model_id": "b5348f1ddbfb4fdb88f17e5f9a9af0a6",
              "version_major": 2,
              "version_minor": 0
            },
            "text/plain": [
              "interactive(children=(ToggleButtons(description='Plot Type:', icons=('',), options=(('Pipeline Plot', 'pipelin…"
            ]
          },
          "metadata": {},
          "output_type": "display_data"
        }
      ],
      "source": [
        "evaluate_model(best_model)"
      ]
    },
    {
      "cell_type": "code",
      "execution_count": null,
      "id": "9475cb4a",
      "metadata": {
        "colab": {
          "referenced_widgets": [
            "cacbd3b0b1c04c4391ce6772e4044dfb"
          ]
        },
        "id": "9475cb4a",
        "outputId": "509c9051-a351-4bab-bb40-a9e475dbaf51"
      },
      "outputs": [
        {
          "data": {
            "application/vnd.jupyter.widget-view+json": {
              "model_id": "cacbd3b0b1c04c4391ce6772e4044dfb",
              "version_major": 2,
              "version_minor": 0
            },
            "text/plain": [
              "interactive(children=(ToggleButtons(description='Plot Type:', icons=('',), options=(('Pipeline Plot', 'pipelin…"
            ]
          },
          "metadata": {},
          "output_type": "display_data"
        }
      ],
      "source": [
        "evaluate_model(best_model)"
      ]
    },
    {
      "cell_type": "code",
      "execution_count": null,
      "id": "a076cda6-50e7-47cd-af31-065d243f0944",
      "metadata": {
        "colab": {
          "referenced_widgets": [
            "2d706378be0e4e67bbd13f6cf98d5e99"
          ]
        },
        "id": "a076cda6-50e7-47cd-af31-065d243f0944",
        "outputId": "81545220-eb85-4775-887c-6cb610b6f11c"
      },
      "outputs": [
        {
          "data": {
            "application/vnd.jupyter.widget-view+json": {
              "model_id": "2d706378be0e4e67bbd13f6cf98d5e99",
              "version_major": 2,
              "version_minor": 0
            },
            "text/plain": [
              "interactive(children=(ToggleButtons(description='Plot Type:', icons=('',), options=(('Pipeline Plot', 'pipelin…"
            ]
          },
          "metadata": {},
          "output_type": "display_data"
        }
      ],
      "source": [
        "evaluate_model(best_model)"
      ]
    },
    {
      "cell_type": "code",
      "execution_count": null,
      "id": "db373ed5",
      "metadata": {
        "colab": {
          "referenced_widgets": [
            "ecf24ca0eadb485d8f1f3aacfa7b8e09"
          ]
        },
        "id": "db373ed5",
        "outputId": "c2fa2337-5882-4a13-faeb-4ab28a66b00a"
      },
      "outputs": [
        {
          "data": {
            "application/vnd.jupyter.widget-view+json": {
              "model_id": "ecf24ca0eadb485d8f1f3aacfa7b8e09",
              "version_major": 2,
              "version_minor": 0
            },
            "text/plain": [
              "interactive(children=(ToggleButtons(description='Plot Type:', icons=('',), options=(('Pipeline Plot', 'pipelin…"
            ]
          },
          "metadata": {},
          "output_type": "display_data"
        }
      ],
      "source": [
        "evaluate_model(best_model)"
      ]
    },
    {
      "cell_type": "code",
      "execution_count": null,
      "id": "1eb28424-4cda-4def-a2d7-ff198fdf0990",
      "metadata": {
        "id": "1eb28424-4cda-4def-a2d7-ff198fdf0990",
        "outputId": "44f60349-06f4-4502-906a-36aaa4a6028d"
      },
      "outputs": [
        {
          "data": {
            "text/html": [
              "<style type=\"text/css\">\n",
              "</style>\n",
              "<table id=\"T_a699d\">\n",
              "  <thead>\n",
              "    <tr>\n",
              "      <th class=\"blank level0\" >&nbsp;</th>\n",
              "      <th id=\"T_a699d_level0_col0\" class=\"col_heading level0 col0\" >Model</th>\n",
              "      <th id=\"T_a699d_level0_col1\" class=\"col_heading level0 col1\" >MAE</th>\n",
              "      <th id=\"T_a699d_level0_col2\" class=\"col_heading level0 col2\" >MSE</th>\n",
              "      <th id=\"T_a699d_level0_col3\" class=\"col_heading level0 col3\" >RMSE</th>\n",
              "      <th id=\"T_a699d_level0_col4\" class=\"col_heading level0 col4\" >R2</th>\n",
              "      <th id=\"T_a699d_level0_col5\" class=\"col_heading level0 col5\" >RMSLE</th>\n",
              "      <th id=\"T_a699d_level0_col6\" class=\"col_heading level0 col6\" >MAPE</th>\n",
              "    </tr>\n",
              "  </thead>\n",
              "  <tbody>\n",
              "    <tr>\n",
              "      <th id=\"T_a699d_level0_row0\" class=\"row_heading level0 row0\" >0</th>\n",
              "      <td id=\"T_a699d_row0_col0\" class=\"data row0 col0\" >Extra Trees Regressor</td>\n",
              "      <td id=\"T_a699d_row0_col1\" class=\"data row0 col1\" >0.8980</td>\n",
              "      <td id=\"T_a699d_row0_col2\" class=\"data row0 col2\" >1.4813</td>\n",
              "      <td id=\"T_a699d_row0_col3\" class=\"data row0 col3\" >1.2171</td>\n",
              "      <td id=\"T_a699d_row0_col4\" class=\"data row0 col4\" >0.8476</td>\n",
              "      <td id=\"T_a699d_row0_col5\" class=\"data row0 col5\" >0.0430</td>\n",
              "      <td id=\"T_a699d_row0_col6\" class=\"data row0 col6\" >0.0332</td>\n",
              "    </tr>\n",
              "  </tbody>\n",
              "</table>\n"
            ],
            "text/plain": [
              "<pandas.io.formats.style.Styler at 0x21a811eaa60>"
            ]
          },
          "metadata": {},
          "output_type": "display_data"
        },
        {
          "data": {
            "text/html": [
              "<div>\n",
              "<style scoped>\n",
              "    .dataframe tbody tr th:only-of-type {\n",
              "        vertical-align: middle;\n",
              "    }\n",
              "\n",
              "    .dataframe tbody tr th {\n",
              "        vertical-align: top;\n",
              "    }\n",
              "\n",
              "    .dataframe thead th {\n",
              "        text-align: right;\n",
              "    }\n",
              "</style>\n",
              "<table border=\"1\" class=\"dataframe\">\n",
              "  <thead>\n",
              "    <tr style=\"text-align: right;\">\n",
              "      <th></th>\n",
              "      <th>Date</th>\n",
              "      <th>lokasi</th>\n",
              "      <th>con_prec.mm.</th>\n",
              "      <th>mic_prec.mm.</th>\n",
              "      <th>sha_prec.mm.</th>\n",
              "      <th>suhu2m.degC.</th>\n",
              "      <th>dew2m.degC.</th>\n",
              "      <th>rh2m...</th>\n",
              "      <th>wspeed.m.s.</th>\n",
              "      <th>wdir.deg.</th>\n",
              "      <th>...</th>\n",
              "      <th>rh500...</th>\n",
              "      <th>ws500.m.s.</th>\n",
              "      <th>wd500.deg.</th>\n",
              "      <th>hari</th>\n",
              "      <th>UTC</th>\n",
              "      <th>LAT</th>\n",
              "      <th>LON</th>\n",
              "      <th>ELEV</th>\n",
              "      <th>t_obs</th>\n",
              "      <th>prediction_label</th>\n",
              "    </tr>\n",
              "  </thead>\n",
              "  <tbody>\n",
              "    <tr>\n",
              "      <th>175429</th>\n",
              "      <td>2023-01-08 12:00:00</td>\n",
              "      <td>96585</td>\n",
              "      <td>0.000000</td>\n",
              "      <td>0.000000e+00</td>\n",
              "      <td>0</td>\n",
              "      <td>25.304199</td>\n",
              "      <td>23.968201</td>\n",
              "      <td>92.453102</td>\n",
              "      <td>1.389680</td>\n",
              "      <td>269.322998</td>\n",
              "      <td>...</td>\n",
              "      <td>65.757599</td>\n",
              "      <td>4.96253</td>\n",
              "      <td>221.947006</td>\n",
              "      <td>1</td>\n",
              "      <td>12</td>\n",
              "      <td>-0.03000</td>\n",
              "      <td>109.339996</td>\n",
              "      <td>4</td>\n",
              "      <td>27.000000</td>\n",
              "      <td>26.131000</td>\n",
              "    </tr>\n",
              "    <tr>\n",
              "      <th>178634</th>\n",
              "      <td>2022-07-15 00:00:00</td>\n",
              "      <td>96595</td>\n",
              "      <td>0.000000</td>\n",
              "      <td>3.628550e-10</td>\n",
              "      <td>0</td>\n",
              "      <td>22.118200</td>\n",
              "      <td>20.974300</td>\n",
              "      <td>93.395897</td>\n",
              "      <td>1.468330</td>\n",
              "      <td>70.863602</td>\n",
              "      <td>...</td>\n",
              "      <td>94.068298</td>\n",
              "      <td>2.36861</td>\n",
              "      <td>158.968994</td>\n",
              "      <td>0</td>\n",
              "      <td>12</td>\n",
              "      <td>-0.56000</td>\n",
              "      <td>114.529999</td>\n",
              "      <td>42</td>\n",
              "      <td>24.000000</td>\n",
              "      <td>23.867000</td>\n",
              "    </tr>\n",
              "    <tr>\n",
              "      <th>336132</th>\n",
              "      <td>2021-02-28 03:00:00</td>\n",
              "      <td>97052</td>\n",
              "      <td>0.140991</td>\n",
              "      <td>4.579220e-07</td>\n",
              "      <td>0</td>\n",
              "      <td>30.474400</td>\n",
              "      <td>22.446199</td>\n",
              "      <td>62.346401</td>\n",
              "      <td>3.746830</td>\n",
              "      <td>333.725006</td>\n",
              "      <td>...</td>\n",
              "      <td>68.098999</td>\n",
              "      <td>2.85852</td>\n",
              "      <td>65.874199</td>\n",
              "      <td>0</td>\n",
              "      <td>12</td>\n",
              "      <td>0.55600</td>\n",
              "      <td>123.139999</td>\n",
              "      <td>15</td>\n",
              "      <td>33.200001</td>\n",
              "      <td>31.088000</td>\n",
              "    </tr>\n",
              "    <tr>\n",
              "      <th>85887</th>\n",
              "      <td>2021-07-11 06:00:00</td>\n",
              "      <td>96179</td>\n",
              "      <td>0.423017</td>\n",
              "      <td>0.000000e+00</td>\n",
              "      <td>0</td>\n",
              "      <td>27.414801</td>\n",
              "      <td>25.163601</td>\n",
              "      <td>87.658401</td>\n",
              "      <td>1.891930</td>\n",
              "      <td>70.289101</td>\n",
              "      <td>...</td>\n",
              "      <td>80.049896</td>\n",
              "      <td>9.54969</td>\n",
              "      <td>108.728996</td>\n",
              "      <td>0</td>\n",
              "      <td>12</td>\n",
              "      <td>-0.48000</td>\n",
              "      <td>104.580002</td>\n",
              "      <td>29</td>\n",
              "      <td>29.400000</td>\n",
              "      <td>28.495000</td>\n",
              "    </tr>\n",
              "    <tr>\n",
              "      <th>460195</th>\n",
              "      <td>2021-03-25 06:00:00</td>\n",
              "      <td>97560</td>\n",
              "      <td>2.274320</td>\n",
              "      <td>2.575820e-01</td>\n",
              "      <td>0</td>\n",
              "      <td>27.693100</td>\n",
              "      <td>25.479601</td>\n",
              "      <td>87.875702</td>\n",
              "      <td>2.483210</td>\n",
              "      <td>11.508500</td>\n",
              "      <td>...</td>\n",
              "      <td>75.106903</td>\n",
              "      <td>5.26443</td>\n",
              "      <td>124.314003</td>\n",
              "      <td>0</td>\n",
              "      <td>12</td>\n",
              "      <td>-1.19069</td>\n",
              "      <td>136.103607</td>\n",
              "      <td>3</td>\n",
              "      <td>29.400000</td>\n",
              "      <td>29.322000</td>\n",
              "    </tr>\n",
              "    <tr>\n",
              "      <th>...</th>\n",
              "      <td>...</td>\n",
              "      <td>...</td>\n",
              "      <td>...</td>\n",
              "      <td>...</td>\n",
              "      <td>...</td>\n",
              "      <td>...</td>\n",
              "      <td>...</td>\n",
              "      <td>...</td>\n",
              "      <td>...</td>\n",
              "      <td>...</td>\n",
              "      <td>...</td>\n",
              "      <td>...</td>\n",
              "      <td>...</td>\n",
              "      <td>...</td>\n",
              "      <td>...</td>\n",
              "      <td>...</td>\n",
              "      <td>...</td>\n",
              "      <td>...</td>\n",
              "      <td>...</td>\n",
              "      <td>...</td>\n",
              "      <td>...</td>\n",
              "    </tr>\n",
              "    <tr>\n",
              "      <th>260059</th>\n",
              "      <td>2021-10-15 00:00:00</td>\n",
              "      <td>96835</td>\n",
              "      <td>0.000000</td>\n",
              "      <td>0.000000e+00</td>\n",
              "      <td>0</td>\n",
              "      <td>28.448500</td>\n",
              "      <td>22.267300</td>\n",
              "      <td>69.326401</td>\n",
              "      <td>0.298020</td>\n",
              "      <td>212.244995</td>\n",
              "      <td>...</td>\n",
              "      <td>55.957401</td>\n",
              "      <td>2.04675</td>\n",
              "      <td>325.105011</td>\n",
              "      <td>0</td>\n",
              "      <td>12</td>\n",
              "      <td>-6.98470</td>\n",
              "      <td>110.381203</td>\n",
              "      <td>6</td>\n",
              "      <td>27.000000</td>\n",
              "      <td>27.189001</td>\n",
              "    </tr>\n",
              "    <tr>\n",
              "      <th>213058</th>\n",
              "      <td>2021-04-11 09:00:00</td>\n",
              "      <td>96733</td>\n",
              "      <td>13.504300</td>\n",
              "      <td>1.659780e-01</td>\n",
              "      <td>0</td>\n",
              "      <td>28.034599</td>\n",
              "      <td>24.590700</td>\n",
              "      <td>81.698196</td>\n",
              "      <td>0.823655</td>\n",
              "      <td>245.699005</td>\n",
              "      <td>...</td>\n",
              "      <td>82.407501</td>\n",
              "      <td>4.50605</td>\n",
              "      <td>260.329010</td>\n",
              "      <td>0</td>\n",
              "      <td>12</td>\n",
              "      <td>-6.26151</td>\n",
              "      <td>106.750801</td>\n",
              "      <td>27</td>\n",
              "      <td>24.799999</td>\n",
              "      <td>28.656000</td>\n",
              "    </tr>\n",
              "    <tr>\n",
              "      <th>35687</th>\n",
              "      <td>2022-01-18 09:00:00</td>\n",
              "      <td>96071</td>\n",
              "      <td>0.803764</td>\n",
              "      <td>6.765480e-04</td>\n",
              "      <td>0</td>\n",
              "      <td>27.254999</td>\n",
              "      <td>22.197399</td>\n",
              "      <td>74.018600</td>\n",
              "      <td>3.361040</td>\n",
              "      <td>50.410500</td>\n",
              "      <td>...</td>\n",
              "      <td>82.187103</td>\n",
              "      <td>3.68391</td>\n",
              "      <td>247.806000</td>\n",
              "      <td>0</td>\n",
              "      <td>12</td>\n",
              "      <td>1.55000</td>\n",
              "      <td>99.449997</td>\n",
              "      <td>281</td>\n",
              "      <td>27.200001</td>\n",
              "      <td>27.435000</td>\n",
              "    </tr>\n",
              "    <tr>\n",
              "      <th>310373</th>\n",
              "      <td>2021-12-17 18:00:00</td>\n",
              "      <td>96987</td>\n",
              "      <td>0.000000</td>\n",
              "      <td>0.000000e+00</td>\n",
              "      <td>0</td>\n",
              "      <td>23.060801</td>\n",
              "      <td>20.716000</td>\n",
              "      <td>86.805801</td>\n",
              "      <td>0.855329</td>\n",
              "      <td>273.988007</td>\n",
              "      <td>...</td>\n",
              "      <td>48.751999</td>\n",
              "      <td>4.04737</td>\n",
              "      <td>83.573303</td>\n",
              "      <td>0</td>\n",
              "      <td>12</td>\n",
              "      <td>-8.21500</td>\n",
              "      <td>114.355301</td>\n",
              "      <td>52</td>\n",
              "      <td>26.100000</td>\n",
              "      <td>26.291000</td>\n",
              "    </tr>\n",
              "    <tr>\n",
              "      <th>412854</th>\n",
              "      <td>2022-12-03 15:00:00</td>\n",
              "      <td>97284</td>\n",
              "      <td>0.000000</td>\n",
              "      <td>0.000000e+00</td>\n",
              "      <td>0</td>\n",
              "      <td>16.019300</td>\n",
              "      <td>14.791200</td>\n",
              "      <td>92.600899</td>\n",
              "      <td>1.049990</td>\n",
              "      <td>101.333000</td>\n",
              "      <td>...</td>\n",
              "      <td>36.849300</td>\n",
              "      <td>4.62420</td>\n",
              "      <td>91.714798</td>\n",
              "      <td>0</td>\n",
              "      <td>12</td>\n",
              "      <td>-8.63000</td>\n",
              "      <td>120.449997</td>\n",
              "      <td>1070</td>\n",
              "      <td>17.200001</td>\n",
              "      <td>17.744000</td>\n",
              "    </tr>\n",
              "  </tbody>\n",
              "</table>\n",
              "<p>163283 rows × 40 columns</p>\n",
              "</div>"
            ],
            "text/plain": [
              "                       Date  lokasi  con_prec.mm.  mic_prec.mm.  sha_prec.mm.  \\\n",
              "175429  2023-01-08 12:00:00   96585      0.000000  0.000000e+00             0   \n",
              "178634  2022-07-15 00:00:00   96595      0.000000  3.628550e-10             0   \n",
              "336132  2021-02-28 03:00:00   97052      0.140991  4.579220e-07             0   \n",
              "85887   2021-07-11 06:00:00   96179      0.423017  0.000000e+00             0   \n",
              "460195  2021-03-25 06:00:00   97560      2.274320  2.575820e-01             0   \n",
              "...                     ...     ...           ...           ...           ...   \n",
              "260059  2021-10-15 00:00:00   96835      0.000000  0.000000e+00             0   \n",
              "213058  2021-04-11 09:00:00   96733     13.504300  1.659780e-01             0   \n",
              "35687   2022-01-18 09:00:00   96071      0.803764  6.765480e-04             0   \n",
              "310373  2021-12-17 18:00:00   96987      0.000000  0.000000e+00             0   \n",
              "412854  2022-12-03 15:00:00   97284      0.000000  0.000000e+00             0   \n",
              "\n",
              "        suhu2m.degC.  dew2m.degC.    rh2m...  wspeed.m.s.   wdir.deg.  ...  \\\n",
              "175429     25.304199    23.968201  92.453102     1.389680  269.322998  ...   \n",
              "178634     22.118200    20.974300  93.395897     1.468330   70.863602  ...   \n",
              "336132     30.474400    22.446199  62.346401     3.746830  333.725006  ...   \n",
              "85887      27.414801    25.163601  87.658401     1.891930   70.289101  ...   \n",
              "460195     27.693100    25.479601  87.875702     2.483210   11.508500  ...   \n",
              "...              ...          ...        ...          ...         ...  ...   \n",
              "260059     28.448500    22.267300  69.326401     0.298020  212.244995  ...   \n",
              "213058     28.034599    24.590700  81.698196     0.823655  245.699005  ...   \n",
              "35687      27.254999    22.197399  74.018600     3.361040   50.410500  ...   \n",
              "310373     23.060801    20.716000  86.805801     0.855329  273.988007  ...   \n",
              "412854     16.019300    14.791200  92.600899     1.049990  101.333000  ...   \n",
              "\n",
              "         rh500...  ws500.m.s.  wd500.deg.  hari  UTC      LAT         LON  \\\n",
              "175429  65.757599     4.96253  221.947006     1   12 -0.03000  109.339996   \n",
              "178634  94.068298     2.36861  158.968994     0   12 -0.56000  114.529999   \n",
              "336132  68.098999     2.85852   65.874199     0   12  0.55600  123.139999   \n",
              "85887   80.049896     9.54969  108.728996     0   12 -0.48000  104.580002   \n",
              "460195  75.106903     5.26443  124.314003     0   12 -1.19069  136.103607   \n",
              "...           ...         ...         ...   ...  ...      ...         ...   \n",
              "260059  55.957401     2.04675  325.105011     0   12 -6.98470  110.381203   \n",
              "213058  82.407501     4.50605  260.329010     0   12 -6.26151  106.750801   \n",
              "35687   82.187103     3.68391  247.806000     0   12  1.55000   99.449997   \n",
              "310373  48.751999     4.04737   83.573303     0   12 -8.21500  114.355301   \n",
              "412854  36.849300     4.62420   91.714798     0   12 -8.63000  120.449997   \n",
              "\n",
              "        ELEV      t_obs  prediction_label  \n",
              "175429     4  27.000000         26.131000  \n",
              "178634    42  24.000000         23.867000  \n",
              "336132    15  33.200001         31.088000  \n",
              "85887     29  29.400000         28.495000  \n",
              "460195     3  29.400000         29.322000  \n",
              "...      ...        ...               ...  \n",
              "260059     6  27.000000         27.189001  \n",
              "213058    27  24.799999         28.656000  \n",
              "35687    281  27.200001         27.435000  \n",
              "310373    52  26.100000         26.291000  \n",
              "412854  1070  17.200001         17.744000  \n",
              "\n",
              "[163283 rows x 40 columns]"
            ]
          },
          "execution_count": 8,
          "metadata": {},
          "output_type": "execute_result"
        }
      ],
      "source": [
        "predict_model(best_model)"
      ]
    },
    {
      "cell_type": "code",
      "execution_count": null,
      "id": "5a012317-e51b-42be-a346-86465f6a439a",
      "metadata": {
        "id": "5a012317-e51b-42be-a346-86465f6a439a",
        "outputId": "43edfaa9-b508-45fd-89d5-c55edec4f44b"
      },
      "outputs": [
        {
          "name": "stdout",
          "output_type": "stream",
          "text": [
            "Transformation Pipeline and Model Successfully Saved\n"
          ]
        },
        {
          "data": {
            "text/plain": [
              "(Pipeline(memory=Memory(location=None),\n",
              "          steps=[('numerical_imputer',\n",
              "                  TransformerWrapper(include=['lokasi', 'con_prec.mm.',\n",
              "                                              'mic_prec.mm.', 'sha_prec.mm.',\n",
              "                                              'suhu2m.degC.', 'dew2m.degC.',\n",
              "                                              'rh2m...', 'wspeed.m.s.',\n",
              "                                              'wdir.deg.', 'lcloud...',\n",
              "                                              'mcloud...', 'hcloud...',\n",
              "                                              'surpre.Pa.', 'clmix.kg.kg.',\n",
              "                                              'wamix.kg.kg.', 'outlr.W.m2.',\n",
              "                                              'pblh.m.', 'lifcl.m.',\n",
              "                                              'cape.j.kg.', 'mdbz', 't9...\n",
              "                  TransformerWrapper(include=['Date'],\n",
              "                                     transformer=SimpleImputer(strategy='most_frequent'))),\n",
              "                 ('rest_encoding',\n",
              "                  TransformerWrapper(include=['Date'],\n",
              "                                     transformer=TargetEncoder(cols=['Date'],\n",
              "                                                               handle_missing='return_nan'))),\n",
              "                 ('clean_column_names',\n",
              "                  TransformerWrapper(transformer=CleanColumnNames())),\n",
              "                 ('trained_model',\n",
              "                  ExtraTreesRegressor(n_jobs=-1, random_state=7907))]),\n",
              " 'weather_extra_trees_regressor.pkl')"
            ]
          },
          "execution_count": 9,
          "metadata": {},
          "output_type": "execute_result"
        }
      ],
      "source": [
        "save_model(best_model, 'weather_extra_trees_regressor')"
      ]
    }
  ],
  "metadata": {
    "colab": {
      "provenance": []
    },
    "kernelspec": {
      "display_name": "PyCaretEnv",
      "language": "python",
      "name": "pycaretenv"
    },
    "language_info": {
      "codemirror_mode": {
        "name": "ipython",
        "version": 3
      },
      "file_extension": ".py",
      "mimetype": "text/x-python",
      "name": "python",
      "nbconvert_exporter": "python",
      "pygments_lexer": "ipython3",
      "version": "3.8.18"
    }
  },
  "nbformat": 4,
  "nbformat_minor": 5
}
